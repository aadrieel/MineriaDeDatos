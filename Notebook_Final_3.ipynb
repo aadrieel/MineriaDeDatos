{
 "cells": [
  {
   "cell_type": "markdown",
   "metadata": {},
   "source": [
    "# Equipo: 3\n",
    "# Grupo: 002, Miércoles\n",
    "## Integrantes: \n",
    "- 1941502 Vidal Mosqueda Cristina\n",
    "- 1811901 García Salazar Orlando\n",
    "- 1644680 Macías Cortés Isaí Adriel\n",
    "- 1849522 Mora Martínez Gerardo\n",
    "\n",
    "\n",
    "# ***Quejas Financieras de USA***\n",
    "\n",
    "- **Url:** https://www.kaggle.com/cfpb/us-consumer-finance-complaints\n",
    "\n",
    "## Introducción: \n",
    "Los servicios bancarios suelen presentar fallas, por lo que a consecuencia de esto, los clientes presentan quejas hacia los bancos. Nuestra base de datos se basa en las quejas que presentan los consumidores a los bancos estadounidenses.\n",
    "\n",
    "## Descripción de los datos: \n",
    "Son reclamos hechos por los clientes, las cuales, son registradas por la CFPB (Consumer Financial Protection Bureau) que se introducen a una base de datos, generando una matriz de todas las quejas financieras que se hicieron en Estados Unidos de América.\n",
    "\n",
    "## Descripción de la base de datos:\n",
    "- De nuestra limpieza de la base de datos, las columnas que la conforma son: \n",
    "    - **date_received:** Fecha en la que la queja fue enviada por el cliente.\n",
    "        - (**Tipo de dato:** Fecha en forma de cadena de texto).\n",
    "    - **product:** El producto financiero referente a la queja que solicitó el cliente.\n",
    "        - (**Tipo de dato:** Cadena de texto).\n",
    "    - **issue:** El título general establecido para identificar la queja del cliente.\n",
    "        - (**Tipo de dato:** Cadena de texto).\n",
    "    - **company:** El banco en el que el cliente solicitó el servicio.\n",
    "        - (**Tipo de dato:** Cadena de texto).\n",
    "    - **state:** Estado en el que esta localizado el banco.\n",
    "        - (**Tipo de dato:** Cadena de texto).\n",
    "    - **submitted_via:** Medio por el cual la queja fue enviada.\n",
    "        - (**Tipo de dato:** Cadena de texto).\n",
    "    - **date_sent_to_company:** Fecha en la que se recibió al banco el reclamo del cliente.\n",
    "        - (**Tipo de dato:** Fecha en forma de cadena de texto).\n",
    "    - **company_response_to_consumer:** Respuesta del banco hacia el consumidor.\n",
    "        - (**Tipo de dato:** Cadena de texto).\n",
    "    - **timely_response:** Especifica si la queja fue contestada en el tiempo establecido del banco.\n",
    "        - (**Tipo de dato:** Cadena de texto).\n",
    "    - **consumer_disputed:** Especifica si el cliente quedó insatisfecho con la solución.\n",
    "        - (**Tipo de dato:** Cadena de texto).\n",
    "- El tamaño de la base de datos original es de 18 columnas con 555,957 filas/registros de quejas.\n",
    "\n",
    "## Justificación del uso de datos:\n",
    "Nos llamó la atención los tipos de quejas y los productos financieros a los que se estaban refiriendo.Creemos que con estos datos podemos identificar el mejor estado con mayor sastifacción al cliente respecto al resultado de su queja.\n",
    "\n",
    "## Objetivos Principales:\n",
    "- Encontrar los 5 bancos más grandes de USA.\n",
    "- Encontrar el o los estados con mayor quejas en los bancos más grandes de USA.\n",
    "- Del o de los estados con mayores quejas, encontrar dentro de los 5 bancos más grandes de Estados Unidos, cuál tendrá mayor predicción de clientes satisfechos dentro de 6 meses.\n",
    "\n",
    "## Objetivos Secundarios:\n",
    "- Encontrar los estados con mayor y menor cantidad de quejas.\n",
    "- Encontrar los estados con mayor clientes insatisfechos."
   ]
  },
  {
   "cell_type": "markdown",
   "metadata": {},
   "source": [
    "# Desarrollo de las herramientas\n",
    "- Mostraremos la base datos sin manipulacion (los primeros 5 registros dado su gran cantidad de filas)."
   ]
  },
  {
   "cell_type": "code",
   "execution_count": 2,
   "metadata": {},
   "outputs": [
    {
     "name": "stderr",
     "output_type": "stream",
     "text": [
      "C:\\Users\\LENOVO\\AppData\\Local\\Programs\\Python\\Python38\\lib\\site-packages\\IPython\\core\\interactiveshell.py:3441: DtypeWarning: Columns (5,11) have mixed types.Specify dtype option on import or set low_memory=False.\n",
      "  exec(code_obj, self.user_global_ns, self.user_ns)\n"
     ]
    },
    {
     "data": {
      "text/html": [
       "<div>\n",
       "<style scoped>\n",
       "    .dataframe tbody tr th:only-of-type {\n",
       "        vertical-align: middle;\n",
       "    }\n",
       "\n",
       "    .dataframe tbody tr th {\n",
       "        vertical-align: top;\n",
       "    }\n",
       "\n",
       "    .dataframe thead th {\n",
       "        text-align: right;\n",
       "    }\n",
       "</style>\n",
       "<table border=\"1\" class=\"dataframe\">\n",
       "  <thead>\n",
       "    <tr style=\"text-align: right;\">\n",
       "      <th></th>\n",
       "      <th>date_received</th>\n",
       "      <th>product</th>\n",
       "      <th>sub_product</th>\n",
       "      <th>issue</th>\n",
       "      <th>sub_issue</th>\n",
       "      <th>consumer_complaint_narrative</th>\n",
       "      <th>company_public_response</th>\n",
       "      <th>company</th>\n",
       "      <th>state</th>\n",
       "      <th>zipcode</th>\n",
       "      <th>tags</th>\n",
       "      <th>consumer_consent_provided</th>\n",
       "      <th>submitted_via</th>\n",
       "      <th>date_sent_to_company</th>\n",
       "      <th>company_response_to_consumer</th>\n",
       "      <th>timely_response</th>\n",
       "      <th>consumer_disputed?</th>\n",
       "      <th>complaint_id</th>\n",
       "    </tr>\n",
       "  </thead>\n",
       "  <tbody>\n",
       "    <tr>\n",
       "      <th>0</th>\n",
       "      <td>08/30/2013</td>\n",
       "      <td>Mortgage</td>\n",
       "      <td>Other mortgage</td>\n",
       "      <td>Loan modification,collection,foreclosure</td>\n",
       "      <td>NaN</td>\n",
       "      <td>NaN</td>\n",
       "      <td>NaN</td>\n",
       "      <td>U.S. Bancorp</td>\n",
       "      <td>CA</td>\n",
       "      <td>95993</td>\n",
       "      <td>NaN</td>\n",
       "      <td>NaN</td>\n",
       "      <td>Referral</td>\n",
       "      <td>09/03/2013</td>\n",
       "      <td>Closed with explanation</td>\n",
       "      <td>Yes</td>\n",
       "      <td>Yes</td>\n",
       "      <td>511074</td>\n",
       "    </tr>\n",
       "    <tr>\n",
       "      <th>1</th>\n",
       "      <td>08/30/2013</td>\n",
       "      <td>Mortgage</td>\n",
       "      <td>Other mortgage</td>\n",
       "      <td>Loan servicing, payments, escrow account</td>\n",
       "      <td>NaN</td>\n",
       "      <td>NaN</td>\n",
       "      <td>NaN</td>\n",
       "      <td>Wells Fargo &amp; Company</td>\n",
       "      <td>CA</td>\n",
       "      <td>91104</td>\n",
       "      <td>NaN</td>\n",
       "      <td>NaN</td>\n",
       "      <td>Referral</td>\n",
       "      <td>09/03/2013</td>\n",
       "      <td>Closed with explanation</td>\n",
       "      <td>Yes</td>\n",
       "      <td>Yes</td>\n",
       "      <td>511080</td>\n",
       "    </tr>\n",
       "    <tr>\n",
       "      <th>2</th>\n",
       "      <td>08/30/2013</td>\n",
       "      <td>Credit reporting</td>\n",
       "      <td>NaN</td>\n",
       "      <td>Incorrect information on credit report</td>\n",
       "      <td>Account status</td>\n",
       "      <td>NaN</td>\n",
       "      <td>NaN</td>\n",
       "      <td>Wells Fargo &amp; Company</td>\n",
       "      <td>NY</td>\n",
       "      <td>11764</td>\n",
       "      <td>NaN</td>\n",
       "      <td>NaN</td>\n",
       "      <td>Postal mail</td>\n",
       "      <td>09/18/2013</td>\n",
       "      <td>Closed with explanation</td>\n",
       "      <td>Yes</td>\n",
       "      <td>No</td>\n",
       "      <td>510473</td>\n",
       "    </tr>\n",
       "    <tr>\n",
       "      <th>3</th>\n",
       "      <td>08/30/2013</td>\n",
       "      <td>Student loan</td>\n",
       "      <td>Non-federal student loan</td>\n",
       "      <td>Repaying your loan</td>\n",
       "      <td>Repaying your loan</td>\n",
       "      <td>NaN</td>\n",
       "      <td>NaN</td>\n",
       "      <td>Navient Solutions, Inc.</td>\n",
       "      <td>MD</td>\n",
       "      <td>21402</td>\n",
       "      <td>NaN</td>\n",
       "      <td>NaN</td>\n",
       "      <td>Email</td>\n",
       "      <td>08/30/2013</td>\n",
       "      <td>Closed with explanation</td>\n",
       "      <td>Yes</td>\n",
       "      <td>Yes</td>\n",
       "      <td>510326</td>\n",
       "    </tr>\n",
       "    <tr>\n",
       "      <th>4</th>\n",
       "      <td>08/30/2013</td>\n",
       "      <td>Debt collection</td>\n",
       "      <td>Credit card</td>\n",
       "      <td>False statements or representation</td>\n",
       "      <td>Attempted to collect wrong amount</td>\n",
       "      <td>NaN</td>\n",
       "      <td>NaN</td>\n",
       "      <td>Resurgent Capital Services L.P.</td>\n",
       "      <td>GA</td>\n",
       "      <td>30106</td>\n",
       "      <td>NaN</td>\n",
       "      <td>NaN</td>\n",
       "      <td>Web</td>\n",
       "      <td>08/30/2013</td>\n",
       "      <td>Closed with explanation</td>\n",
       "      <td>Yes</td>\n",
       "      <td>Yes</td>\n",
       "      <td>511067</td>\n",
       "    </tr>\n",
       "  </tbody>\n",
       "</table>\n",
       "</div>"
      ],
      "text/plain": [
       "  date_received           product               sub_product  \\\n",
       "0    08/30/2013          Mortgage            Other mortgage   \n",
       "1    08/30/2013          Mortgage            Other mortgage   \n",
       "2    08/30/2013  Credit reporting                       NaN   \n",
       "3    08/30/2013      Student loan  Non-federal student loan   \n",
       "4    08/30/2013   Debt collection               Credit card   \n",
       "\n",
       "                                      issue  \\\n",
       "0  Loan modification,collection,foreclosure   \n",
       "1  Loan servicing, payments, escrow account   \n",
       "2    Incorrect information on credit report   \n",
       "3                        Repaying your loan   \n",
       "4        False statements or representation   \n",
       "\n",
       "                           sub_issue consumer_complaint_narrative  \\\n",
       "0                                NaN                          NaN   \n",
       "1                                NaN                          NaN   \n",
       "2                     Account status                          NaN   \n",
       "3                 Repaying your loan                          NaN   \n",
       "4  Attempted to collect wrong amount                          NaN   \n",
       "\n",
       "  company_public_response                          company state zipcode tags  \\\n",
       "0                     NaN                     U.S. Bancorp    CA   95993  NaN   \n",
       "1                     NaN            Wells Fargo & Company    CA   91104  NaN   \n",
       "2                     NaN            Wells Fargo & Company    NY   11764  NaN   \n",
       "3                     NaN          Navient Solutions, Inc.    MD   21402  NaN   \n",
       "4                     NaN  Resurgent Capital Services L.P.    GA   30106  NaN   \n",
       "\n",
       "  consumer_consent_provided submitted_via date_sent_to_company  \\\n",
       "0                       NaN      Referral           09/03/2013   \n",
       "1                       NaN      Referral           09/03/2013   \n",
       "2                       NaN   Postal mail           09/18/2013   \n",
       "3                       NaN         Email           08/30/2013   \n",
       "4                       NaN           Web           08/30/2013   \n",
       "\n",
       "  company_response_to_consumer timely_response consumer_disputed?  \\\n",
       "0      Closed with explanation             Yes                Yes   \n",
       "1      Closed with explanation             Yes                Yes   \n",
       "2      Closed with explanation             Yes                 No   \n",
       "3      Closed with explanation             Yes                Yes   \n",
       "4      Closed with explanation             Yes                Yes   \n",
       "\n",
       "   complaint_id  \n",
       "0        511074  \n",
       "1        511080  \n",
       "2        510473  \n",
       "3        510326  \n",
       "4        511067  "
      ]
     },
     "execution_count": 2,
     "metadata": {},
     "output_type": "execute_result"
    }
   ],
   "source": [
    "import pandas as pd\n",
    "import numpy as np\n",
    "import seaborn as sns\n",
    "import matplotlib.pyplot as plt\n",
    "\n",
    "#Lectura de archivo\n",
    "df = pd.read_csv(\"consumer_complaints.csv\",encoding='utf8')\n",
    "df.head()"
   ]
  },
  {
   "cell_type": "markdown",
   "metadata": {},
   "source": [
    "- Eliminaremos las columnas no deseadas para nuestro estudio:\n",
    "    - **sub_product:** No nos llama la atención el sub producto de los productos financieros.\n",
    "    - **sub_issue:** No nos interesa la sub queja de la queja del cliente.\n",
    "    - **consumer_complaint_narrative:** La descripción de la queja de cada cliente de la base de datos no nos proporciona información relevante para el estudio, más que la razón de la originación de la queja.\n",
    "    - **company_public_response:** Esta columna no forma parte de nuestro estudio\n",
    "    - **zipcode:** El código postal no proporciona información que nos ayude a nuestro estudio.\n",
    "    - **tags:** Esta columna no da relevancia a nuestro estudio\n",
    "    - **consumer_consent_provided:** No es de nuestro interés saber si el cliente recibió consentimiento\n",
    "    - **complaint_id:** El ID de queja no es relevante para la investigación.\n",
    "\n",
    "- Y cambiaremos los nombres de las columnas para su mejor entendimiento:"
   ]
  },
  {
   "cell_type": "code",
   "execution_count": 6,
   "metadata": {},
   "outputs": [
    {
     "data": {
      "text/html": [
       "<div>\n",
       "<style scoped>\n",
       "    .dataframe tbody tr th:only-of-type {\n",
       "        vertical-align: middle;\n",
       "    }\n",
       "\n",
       "    .dataframe tbody tr th {\n",
       "        vertical-align: top;\n",
       "    }\n",
       "\n",
       "    .dataframe thead th {\n",
       "        text-align: right;\n",
       "    }\n",
       "</style>\n",
       "<table border=\"1\" class=\"dataframe\">\n",
       "  <thead>\n",
       "    <tr style=\"text-align: right;\">\n",
       "      <th></th>\n",
       "      <th>Fecha_Enviada_por_el_Cliente</th>\n",
       "      <th>Producto_Financiero</th>\n",
       "      <th>Queja</th>\n",
       "      <th>Banco</th>\n",
       "      <th>Diminutivo_de_Estado_de_USA</th>\n",
       "      <th>Medio_de_Envío</th>\n",
       "      <th>Fecha_Recibida_al_Banco</th>\n",
       "      <th>Formato respuesta al cliente</th>\n",
       "      <th>¿Se_evaluó_a_tiempo_la_respuesta_de_la_queja?</th>\n",
       "      <th>¿Cliente_insastifecho_a_la_solución?</th>\n",
       "    </tr>\n",
       "  </thead>\n",
       "  <tbody>\n",
       "    <tr>\n",
       "      <th>0</th>\n",
       "      <td>08/30/2013</td>\n",
       "      <td>Mortgage</td>\n",
       "      <td>Loan modification,collection,foreclosure</td>\n",
       "      <td>U.S. Bancorp</td>\n",
       "      <td>CA</td>\n",
       "      <td>Referral</td>\n",
       "      <td>09/03/2013</td>\n",
       "      <td>Closed with explanation</td>\n",
       "      <td>Yes</td>\n",
       "      <td>Yes</td>\n",
       "    </tr>\n",
       "    <tr>\n",
       "      <th>1</th>\n",
       "      <td>08/30/2013</td>\n",
       "      <td>Mortgage</td>\n",
       "      <td>Loan servicing, payments, escrow account</td>\n",
       "      <td>Wells Fargo &amp; Company</td>\n",
       "      <td>CA</td>\n",
       "      <td>Referral</td>\n",
       "      <td>09/03/2013</td>\n",
       "      <td>Closed with explanation</td>\n",
       "      <td>Yes</td>\n",
       "      <td>Yes</td>\n",
       "    </tr>\n",
       "    <tr>\n",
       "      <th>2</th>\n",
       "      <td>08/30/2013</td>\n",
       "      <td>Credit reporting</td>\n",
       "      <td>Incorrect information on credit report</td>\n",
       "      <td>Wells Fargo &amp; Company</td>\n",
       "      <td>NY</td>\n",
       "      <td>Postal mail</td>\n",
       "      <td>09/18/2013</td>\n",
       "      <td>Closed with explanation</td>\n",
       "      <td>Yes</td>\n",
       "      <td>No</td>\n",
       "    </tr>\n",
       "    <tr>\n",
       "      <th>3</th>\n",
       "      <td>08/30/2013</td>\n",
       "      <td>Student loan</td>\n",
       "      <td>Repaying your loan</td>\n",
       "      <td>Navient Solutions, Inc.</td>\n",
       "      <td>MD</td>\n",
       "      <td>Email</td>\n",
       "      <td>08/30/2013</td>\n",
       "      <td>Closed with explanation</td>\n",
       "      <td>Yes</td>\n",
       "      <td>Yes</td>\n",
       "    </tr>\n",
       "    <tr>\n",
       "      <th>4</th>\n",
       "      <td>08/30/2013</td>\n",
       "      <td>Debt collection</td>\n",
       "      <td>False statements or representation</td>\n",
       "      <td>Resurgent Capital Services L.P.</td>\n",
       "      <td>GA</td>\n",
       "      <td>Web</td>\n",
       "      <td>08/30/2013</td>\n",
       "      <td>Closed with explanation</td>\n",
       "      <td>Yes</td>\n",
       "      <td>Yes</td>\n",
       "    </tr>\n",
       "  </tbody>\n",
       "</table>\n",
       "</div>"
      ],
      "text/plain": [
       "  Fecha_Enviada_por_el_Cliente Producto_Financiero  \\\n",
       "0                   08/30/2013            Mortgage   \n",
       "1                   08/30/2013            Mortgage   \n",
       "2                   08/30/2013    Credit reporting   \n",
       "3                   08/30/2013        Student loan   \n",
       "4                   08/30/2013     Debt collection   \n",
       "\n",
       "                                      Queja                            Banco  \\\n",
       "0  Loan modification,collection,foreclosure                     U.S. Bancorp   \n",
       "1  Loan servicing, payments, escrow account            Wells Fargo & Company   \n",
       "2    Incorrect information on credit report            Wells Fargo & Company   \n",
       "3                        Repaying your loan          Navient Solutions, Inc.   \n",
       "4        False statements or representation  Resurgent Capital Services L.P.   \n",
       "\n",
       "  Diminutivo_de_Estado_de_USA Medio_de_Envío Fecha_Recibida_al_Banco  \\\n",
       "0                          CA       Referral              09/03/2013   \n",
       "1                          CA       Referral              09/03/2013   \n",
       "2                          NY    Postal mail              09/18/2013   \n",
       "3                          MD          Email              08/30/2013   \n",
       "4                          GA            Web              08/30/2013   \n",
       "\n",
       "  Formato respuesta al cliente ¿Se_evaluó_a_tiempo_la_respuesta_de_la_queja?  \\\n",
       "0      Closed with explanation                                           Yes   \n",
       "1      Closed with explanation                                           Yes   \n",
       "2      Closed with explanation                                           Yes   \n",
       "3      Closed with explanation                                           Yes   \n",
       "4      Closed with explanation                                           Yes   \n",
       "\n",
       "  ¿Cliente_insastifecho_a_la_solución?  \n",
       "0                                  Yes  \n",
       "1                                  Yes  \n",
       "2                                   No  \n",
       "3                                  Yes  \n",
       "4                                  Yes  "
      ]
     },
     "execution_count": 6,
     "metadata": {},
     "output_type": "execute_result"
    }
   ],
   "source": [
    "#Columnas innecesarias\n",
    "aux = df.drop(['sub_product','sub_issue','consumer_complaint_narrative','company_public_response','zipcode','tags','consumer_consent_provided','complaint_id'],axis = 1)\n",
    "\n",
    "#Cambiamos los nombres de las columnas para mayor entendimiento de la base de datos\n",
    "aux = aux.rename(columns = {'date_received':'Fecha_Enviada_por_el_Cliente'})\n",
    "aux = aux.rename(columns = {'product':'Producto_Financiero'})\n",
    "aux = aux.rename(columns = {'issue':'Queja'})\n",
    "aux = aux.rename(columns = {'company':'Banco'})\n",
    "aux = aux.rename(columns = {'state':'Diminutivo_de_Estado_de_USA'})\n",
    "aux = aux.rename(columns = {'submitted_via':'Medio_de_Envío'})\n",
    "aux = aux.rename(columns = {'date_sent_to_company':'Fecha_Recibida_al_Banco'})\n",
    "aux = aux.rename(columns = {'company_response_to_consumer':'Formato respuesta al cliente'})\n",
    "aux = aux.rename(columns = {'timely_response':'¿Se_evaluó_a_tiempo_la_respuesta_de_la_queja?'})\n",
    "aux = aux.rename(columns = {'consumer_disputed?':'¿Cliente_insastifecho_a_la_solución?'})\n",
    "\n",
    "aux.head()"
   ]
  },
  {
   "cell_type": "markdown",
   "metadata": {},
   "source": [
    "- Verificamos si hay datos nulos en nuestra base de datos:"
   ]
  },
  {
   "cell_type": "code",
   "execution_count": 7,
   "metadata": {},
   "outputs": [
    {
     "data": {
      "text/plain": [
       "Fecha_Enviada_por_el_Cliente                     False\n",
       "Producto_Financiero                              False\n",
       "Queja                                            False\n",
       "Banco                                            False\n",
       "Diminutivo_de_Estado_de_USA                       True\n",
       "Medio_de_Envío                                   False\n",
       "Fecha_Recibida_al_Banco                          False\n",
       "Formato respuesta al cliente                     False\n",
       "¿Se_evaluó_a_tiempo_la_respuesta_de_la_queja?    False\n",
       "¿Cliente_insastifecho_a_la_solución?             False\n",
       "dtype: bool"
      ]
     },
     "execution_count": 7,
     "metadata": {},
     "output_type": "execute_result"
    }
   ],
   "source": [
    "aux.isnull().any()"
   ]
  },
  {
   "cell_type": "markdown",
   "metadata": {},
   "source": [
    "- Analizando el resultado anterior, podemos apreciar que la columna de los estados muestran datos nulos, por lo que tendremos que quitar aquellas filas con este dato nulo para obtener una base de datos limpia."
   ]
  },
  {
   "cell_type": "code",
   "execution_count": 12,
   "metadata": {},
   "outputs": [
    {
     "data": {
      "text/plain": [
       "(551070, 10)"
      ]
     },
     "execution_count": 12,
     "metadata": {},
     "output_type": "execute_result"
    }
   ],
   "source": [
    "#Quitamos las filas con nulos\n",
    "baselimp = aux.dropna()\n",
    "\n",
    "#Tamaño de la base final\n",
    "baselimp.shape"
   ]
  },
  {
   "cell_type": "markdown",
   "metadata": {},
   "source": [
    "- Al haber quitado las filas que contenían nulos, siendo estos una cantidad de 4,887 registros, los cuales representan 0.87% del total de los registros de nuestra base de datos, por lo que no genera cambios significativos en el análisis. Ya dada las modificaciones, procedemos a pasar la base de datos a un nuevo archivo."
   ]
  },
  {
   "cell_type": "code",
   "execution_count": 9,
   "metadata": {},
   "outputs": [],
   "source": [
    "#Exportamos base a csv\n",
    "baselimp.to_csv('Base_Limpia_Quejas_Financieras.csv', index = False)\n",
    "#Hacemos la lectura de la nueva base\n",
    "nudf = pd.read_csv(\"Base_Limpia_Quejas_Financieras.csv\",encoding='utf8')"
   ]
  },
  {
   "cell_type": "markdown",
   "metadata": {},
   "source": [
    "# Estadística Básica\n",
    "\n",
    "- Con nuestra nueva base de datos, procederemos a realizar estadísticos para analizar los datos. Los estadísticos a utilizar es el máximo y el mínimo (que nos proporciona aquél producto financiero con mayores/menores quejas). Usaremos el comando \"describe()\", para checar el tiempo entre la fecha que se envió la queja del cliente hasta la fecha en la cual el banco recibió la queja, considerando que la respuesta del banco al cliente se proporciona en el mismo día de llegada, por lo que se tuvo que agregar otra columna para obtener este dato, y ya con esto, hacer un análisis de de estos resultados."
   ]
  },
  {
   "cell_type": "code",
   "execution_count": 10,
   "metadata": {},
   "outputs": [
    {
     "name": "stdout",
     "output_type": "stream",
     "text": [
      "Máximo: ('Mortgage', 185187)\n",
      "Mínimo: ('Other financial service', 542)\n"
     ]
    }
   ],
   "source": [
    "from collections import Counter\n",
    "import operator as op\n",
    "ps = Counter(nudf['Producto_Financiero'])\n",
    "pi = dict(ps)\n",
    "\n",
    "maxi= max(pi.items(),key = op.itemgetter(1))\n",
    "mini=min(pi.items(),key = op.itemgetter(1))\n",
    "\n",
    "print(\"Máximo: %s\\nMínimo: %s\" % (maxi,mini))"
   ]
  },
  {
   "cell_type": "markdown",
   "metadata": {},
   "source": [
    "- El producto con mayor quejas en USA fue la hipoteca, con una cantidad de 185,187 (esta cantidad representa 33.6% de todas las quejas); y el producto financiero con menor quejas fue el de \"Otros servicios financieros\", con un total de 542 quejas (0.0009% de las quejas totales)."
   ]
  },
  {
   "cell_type": "code",
   "execution_count": 11,
   "metadata": {},
   "outputs": [],
   "source": [
    "from datetime import datetime, timedelta\n",
    "#Se corre una vez estas 2 líneas para convertir de tipo objeto a fecha\n",
    "nudf['Fecha_Recibida_al_Banco'] = nudf['Fecha_Recibida_al_Banco'].apply(lambda _ : datetime.strptime(_,\"%m/%d/%Y\"))\n",
    "nudf['Fecha_Enviada_por_el_Cliente'] = nudf['Fecha_Enviada_por_el_Cliente'].apply(lambda _ : datetime.strptime(_,\"%m/%d/%Y\"))\n",
    "\n",
    "nudf['Diferencia de Tiempo'] = nudf['Fecha_Recibida_al_Banco'].sub(nudf['Fecha_Enviada_por_el_Cliente'], axis=0)\n",
    "nudf['Diferencia de Tiempo'] = nudf['Diferencia de Tiempo'] / np.timedelta64(1, 'D') "
   ]
  },
  {
   "cell_type": "code",
   "execution_count": 13,
   "metadata": {},
   "outputs": [
    {
     "name": "stdout",
     "output_type": "stream",
     "text": [
      "count    551070.000000\n",
      "mean          4.647010\n",
      "std          17.184817\n",
      "min          -1.000000\n",
      "25%           0.000000\n",
      "50%           1.000000\n",
      "75%           4.000000\n",
      "max         993.000000\n",
      "Name: Diferencia de Tiempo, dtype: float64\n",
      "Sesgo: 13.05546257077172\n",
      "Curtosis: 271.2226636524076\n"
     ]
    }
   ],
   "source": [
    "print(nudf['Diferencia de Tiempo'].describe())\n",
    "print(\"Sesgo:\",nudf['Diferencia de Tiempo'].skew())\n",
    "print(\"Curtosis:\",nudf['Diferencia de Tiempo'].kurt())"
   ]
  },
  {
   "cell_type": "markdown",
   "metadata": {},
   "source": [
    "- Observando el resultado anterior, nos damos cuenta que el mínimo de la diferencia de tiempo es -1, este resultado es irreal, por lo que la base de datos presenta errores tanto en la fecha de envío de la que queja por el cliente y la fecha recibida al banco, por lo que procederemos a contabilizar los \"-1\" para removerlos de la base. "
   ]
  },
  {
   "cell_type": "code",
   "execution_count": 14,
   "metadata": {},
   "outputs": [
    {
     "name": "stdout",
     "output_type": "stream",
     "text": [
      "Cantidad de diferencias de tiempo igual a -1: 7042\n"
     ]
    }
   ],
   "source": [
    "d=nudf[nudf['Diferencia de Tiempo'] == -1].count()\n",
    "print(\"Cantidad de diferencias de tiempo igual a -1: %d\" % (d[1]))"
   ]
  },
  {
   "cell_type": "markdown",
   "metadata": {},
   "source": [
    "- Se contabilizan 7,042 registros, lo consideramos datos no significativos de la base de datos."
   ]
  },
  {
   "cell_type": "code",
   "execution_count": 15,
   "metadata": {},
   "outputs": [
    {
     "data": {
      "text/plain": [
       "(544028, 11)"
      ]
     },
     "execution_count": 15,
     "metadata": {},
     "output_type": "execute_result"
    }
   ],
   "source": [
    "nudf = nudf.drop(nudf[nudf['Diferencia de Tiempo']==-1].index)\n",
    "nudf.shape"
   ]
  },
  {
   "cell_type": "markdown",
   "metadata": {},
   "source": [
    "- Una vez ya eliminado estos registros, procedemos a volver a imprimir:"
   ]
  },
  {
   "cell_type": "code",
   "execution_count": 16,
   "metadata": {},
   "outputs": [
    {
     "name": "stdout",
     "output_type": "stream",
     "text": [
      "count    544028.000000\n",
      "mean          4.720106\n",
      "std          17.283590\n",
      "min           0.000000\n",
      "25%           0.000000\n",
      "50%           1.000000\n",
      "75%           4.000000\n",
      "max         993.000000\n",
      "Name: Diferencia de Tiempo, dtype: float64\n",
      "Sesgo: 12.986786257051588\n",
      "Curtosis: 268.25688478230666\n"
     ]
    }
   ],
   "source": [
    "print(nudf['Diferencia de Tiempo'].describe())\n",
    "print(\"Sesgo:\",nudf['Diferencia de Tiempo'].skew())\n",
    "print(\"Curtosis:\",nudf['Diferencia de Tiempo'].kurt())"
   ]
  },
  {
   "cell_type": "markdown",
   "metadata": {},
   "source": [
    "- La media de tiempo de respuesta de clientes de USA es de 4.72 días, con una desviación estándar del 17.28 días, esto marca la variabilidad que puede tener la respuesta del banco al cliente; la mediana del tiempo de respuesta es de 4 días y el tiempo máximo de respuesta al cliente es de 993 días (este dato puede ser atípico); El sesgo nos indica que el tiempo de respuesta tiene una asimetría positiva, es decir, la distancia al promedio en el primer cuartil es menor que la del tercer cuartil y la curtosis nos indica que la mayor parte de los datos está alrededor de la media."
   ]
  },
  {
   "cell_type": "markdown",
   "metadata": {},
   "source": [
    "# Gráficas\n",
    "\n",
    "- Explicaremos el porqué no se puede graficar las siguientes variables de la base:\n",
    "    - **Queja:** Columna de comentarios individuales de los clientes\n",
    "    - **Banco:** Se puede graficar, pero hay 3,605 bancos, por lo que es complicado realizar una visualización de la cantidad de quejas por banco\n",
    "    - **Fecha_Recibida_al_Banco:** Columna de Fechas\n",
    "- Ahora haremos unas gráficas para analizar mejor nuestros registros de la base de datos."
   ]
  },
  {
   "cell_type": "code",
   "execution_count": 17,
   "metadata": {},
   "outputs": [
    {
     "data": {
      "text/plain": [
       "Text(-8.699999999999996, 0.5, 'Número de quejas')"
      ]
     },
     "execution_count": 17,
     "metadata": {},
     "output_type": "execute_result"
    },
    {
     "data": {
      "image/png": "[encoded data removed]",
      "text/plain": [
       "<Figure size 1260x360 with 1 Axes>"
      ]
     },
     "metadata": {
      "needs_background": "light"
     },
     "output_type": "display_data"
    }
   ],
   "source": [
    "sns.catplot(x=\"Diminutivo_de_Estado_de_USA\", kind=\"count\", data=nudf, aspect= 3.5)\n",
    "plt.title(\"Cantidad de quejas por estado\")\n",
    "plt.ylabel(\"Número de quejas\")"
   ]
  },
  {
   "cell_type": "markdown",
   "metadata": {},
   "source": [
    "- Para una mayor visualización de aquellos estados con menor quejas:"
   ]
  },
  {
   "cell_type": "code",
   "execution_count": 18,
   "metadata": {},
   "outputs": [
    {
     "data": {
      "text/html": [
       "<div>\n",
       "<style scoped>\n",
       "    .dataframe tbody tr th:only-of-type {\n",
       "        vertical-align: middle;\n",
       "    }\n",
       "\n",
       "    .dataframe tbody tr th {\n",
       "        vertical-align: top;\n",
       "    }\n",
       "\n",
       "    .dataframe thead th {\n",
       "        text-align: right;\n",
       "    }\n",
       "</style>\n",
       "<table border=\"1\" class=\"dataframe\">\n",
       "  <thead>\n",
       "    <tr style=\"text-align: right;\">\n",
       "      <th></th>\n",
       "      <th>Nombre</th>\n",
       "      <th>Número de quejas</th>\n",
       "    </tr>\n",
       "  </thead>\n",
       "  <tbody>\n",
       "    <tr>\n",
       "      <th>61</th>\n",
       "      <td>AA</td>\n",
       "      <td>9</td>\n",
       "    </tr>\n",
       "    <tr>\n",
       "      <th>60</th>\n",
       "      <td>PW</td>\n",
       "      <td>9</td>\n",
       "    </tr>\n",
       "    <tr>\n",
       "      <th>58</th>\n",
       "      <td>AS</td>\n",
       "      <td>17</td>\n",
       "    </tr>\n",
       "    <tr>\n",
       "      <th>56</th>\n",
       "      <td>MP</td>\n",
       "      <td>19</td>\n",
       "    </tr>\n",
       "    <tr>\n",
       "      <th>49</th>\n",
       "      <td>MH</td>\n",
       "      <td>27</td>\n",
       "    </tr>\n",
       "    <tr>\n",
       "      <th>...</th>\n",
       "      <td>...</td>\n",
       "      <td>...</td>\n",
       "    </tr>\n",
       "    <tr>\n",
       "      <th>3</th>\n",
       "      <td>GA</td>\n",
       "      <td>24275</td>\n",
       "    </tr>\n",
       "    <tr>\n",
       "      <th>1</th>\n",
       "      <td>NY</td>\n",
       "      <td>37826</td>\n",
       "    </tr>\n",
       "    <tr>\n",
       "      <th>7</th>\n",
       "      <td>TX</td>\n",
       "      <td>40798</td>\n",
       "    </tr>\n",
       "    <tr>\n",
       "      <th>16</th>\n",
       "      <td>FL</td>\n",
       "      <td>53155</td>\n",
       "    </tr>\n",
       "    <tr>\n",
       "      <th>0</th>\n",
       "      <td>CA</td>\n",
       "      <td>80485</td>\n",
       "    </tr>\n",
       "  </tbody>\n",
       "</table>\n",
       "<p>62 rows × 2 columns</p>\n",
       "</div>"
      ],
      "text/plain": [
       "   Nombre  Número de quejas\n",
       "61     AA                 9\n",
       "60     PW                 9\n",
       "58     AS                17\n",
       "56     MP                19\n",
       "49     MH                27\n",
       "..    ...               ...\n",
       "3      GA             24275\n",
       "1      NY             37826\n",
       "7      TX             40798\n",
       "16     FL             53155\n",
       "0      CA             80485\n",
       "\n",
       "[62 rows x 2 columns]"
      ]
     },
     "execution_count": 18,
     "metadata": {},
     "output_type": "execute_result"
    }
   ],
   "source": [
    "#Creamos una lista de quejas por estado y las ordenamos de menor a mayor\n",
    "listasum1,listaname1=[],[]\n",
    "tipo1=nudf['Diminutivo_de_Estado_de_USA'].unique().tolist()\n",
    "s=len(tipo1)\n",
    "for i in range(s):\n",
    "    a=nudf[nudf[\"Diminutivo_de_Estado_de_USA\"]==tipo1[i]].count()[1]\n",
    "    listasum1.append(a)\n",
    "    listaname1.append(tipo1[i])\n",
    "\n",
    "tabla1 = {'Nombre': listaname1,'Número de quejas' : listasum1}\n",
    "tabla1 = pd.DataFrame(tabla1, columns = ['Nombre','Número de quejas'])\n",
    "tabla1.sort_values(by=\"Número de quejas\",ascending=True)"
   ]
  },
  {
   "cell_type": "markdown",
   "metadata": {},
   "source": [
    "- Investigando los diminutivos de los estados provenientes de USA fuera de nuestro estudio, nos damos que hay territorios no incorporados o no son considerados estados de USA, por lo que procederemos a eliminar estos diminutivos."
   ]
  },
  {
   "cell_type": "code",
   "execution_count": 20,
   "metadata": {},
   "outputs": [
    {
     "data": {
      "text/html": [
       "<div>\n",
       "<style scoped>\n",
       "    .dataframe tbody tr th:only-of-type {\n",
       "        vertical-align: middle;\n",
       "    }\n",
       "\n",
       "    .dataframe tbody tr th {\n",
       "        vertical-align: top;\n",
       "    }\n",
       "\n",
       "    .dataframe thead th {\n",
       "        text-align: right;\n",
       "    }\n",
       "</style>\n",
       "<table border=\"1\" class=\"dataframe\">\n",
       "  <thead>\n",
       "    <tr style=\"text-align: right;\">\n",
       "      <th></th>\n",
       "      <th>Nombre</th>\n",
       "      <th>Número de quejas</th>\n",
       "    </tr>\n",
       "  </thead>\n",
       "  <tbody>\n",
       "    <tr>\n",
       "      <th>55</th>\n",
       "      <td>ND</td>\n",
       "      <td>467</td>\n",
       "    </tr>\n",
       "    <tr>\n",
       "      <th>41</th>\n",
       "      <td>WY</td>\n",
       "      <td>538</td>\n",
       "    </tr>\n",
       "    <tr>\n",
       "      <th>18</th>\n",
       "      <td>AK</td>\n",
       "      <td>630</td>\n",
       "    </tr>\n",
       "    <tr>\n",
       "      <th>52</th>\n",
       "      <td>SD</td>\n",
       "      <td>742</td>\n",
       "    </tr>\n",
       "    <tr>\n",
       "      <th>48</th>\n",
       "      <td>MT</td>\n",
       "      <td>882</td>\n",
       "    </tr>\n",
       "  </tbody>\n",
       "</table>\n",
       "</div>"
      ],
      "text/plain": [
       "   Nombre  Número de quejas\n",
       "55     ND               467\n",
       "41     WY               538\n",
       "18     AK               630\n",
       "52     SD               742\n",
       "48     MT               882"
      ]
     },
     "execution_count": 20,
     "metadata": {},
     "output_type": "execute_result"
    }
   ],
   "source": [
    "#Base de datos\n",
    "nudf = nudf.drop(nudf[nudf['Diminutivo_de_Estado_de_USA']==\"AA\"].index)\n",
    "nudf = nudf.drop(nudf[nudf['Diminutivo_de_Estado_de_USA']==\"PW\"].index)\n",
    "nudf = nudf.drop(nudf[nudf['Diminutivo_de_Estado_de_USA']==\"AS\"].index)\n",
    "nudf = nudf.drop(nudf[nudf['Diminutivo_de_Estado_de_USA']==\"MP\"].index)\n",
    "nudf = nudf.drop(nudf[nudf['Diminutivo_de_Estado_de_USA']==\"MH\"].index)\n",
    "nudf = nudf.drop(nudf[nudf['Diminutivo_de_Estado_de_USA']==\"FM\"].index)\n",
    "nudf = nudf.drop(nudf[nudf['Diminutivo_de_Estado_de_USA']==\"GU\"].index)\n",
    "nudf = nudf.drop(nudf[nudf['Diminutivo_de_Estado_de_USA']==\"VI\"].index)\n",
    "nudf = nudf.drop(nudf[nudf['Diminutivo_de_Estado_de_USA']==\"AP\"].index)\n",
    "nudf = nudf.drop(nudf[nudf['Diminutivo_de_Estado_de_USA']==\"AE\"].index)\n",
    "\n",
    "\n",
    "#Tabla creada\n",
    "tabla1 = tabla1.drop(tabla1[tabla1['Nombre']==\"AA\"].index)\n",
    "tabla1 = tabla1.drop(tabla1[tabla1['Nombre']==\"PW\"].index)\n",
    "tabla1 = tabla1.drop(tabla1[tabla1['Nombre']==\"AS\"].index)\n",
    "tabla1 = tabla1.drop(tabla1[tabla1['Nombre']==\"MP\"].index)\n",
    "tabla1 = tabla1.drop(tabla1[tabla1['Nombre']==\"MH\"].index)\n",
    "tabla1 = tabla1.drop(tabla1[tabla1['Nombre']==\"FM\"].index)\n",
    "tabla1 = tabla1.drop(tabla1[tabla1['Nombre']==\"GU\"].index)\n",
    "tabla1 = tabla1.drop(tabla1[tabla1['Nombre']==\"VI\"].index)\n",
    "tabla1 = tabla1.drop(tabla1[tabla1['Nombre']==\"AP\"].index)\n",
    "tabla1 = tabla1.drop(tabla1[tabla1['Nombre']==\"AE\"].index)\n",
    "tabla1.sort_values(by=\"Número de quejas\",ascending=True).head(5)"
   ]
  },
  {
   "cell_type": "markdown",
   "metadata": {},
   "source": [
    "- Los mejores bancos con menores quejas de Noviembre 2011 a Abril 2016 son ND (Dakota del Norte) con 467 quejas, WY (Wyoming) 538 quejas y AK (Alaska) 630 quejas. Entonces la gráfica quedaría así:"
   ]
  },
  {
   "cell_type": "code",
   "execution_count": 21,
   "metadata": {},
   "outputs": [
    {
     "data": {
      "text/plain": [
       "Text(-8.699999999999996, 0.5, 'Número de quejas')"
      ]
     },
     "execution_count": 21,
     "metadata": {},
     "output_type": "execute_result"
    },
    {
     "data": {
      "image/png": "[encoded data removed]",
      "text/plain": [
       "<Figure size 1260x360 with 1 Axes>"
      ]
     },
     "metadata": {
      "needs_background": "light"
     },
     "output_type": "display_data"
    }
   ],
   "source": [
    "sns.catplot(y=\"Número de quejas\", x= \"Nombre\", kind=\"bar\", data=tabla1, aspect= 3.5)\n",
    "plt.title(\"Cantidad de quejas por estado\")\n",
    "plt.ylabel(\"Número de quejas\")"
   ]
  },
  {
   "cell_type": "markdown",
   "metadata": {},
   "source": [
    "- El estado con mayor quejas fue California, despúes Florida y Texas."
   ]
  },
  {
   "cell_type": "code",
   "execution_count": 22,
   "metadata": {},
   "outputs": [
    {
     "data": {
      "text/plain": [
       "<AxesSubplot:xlabel='Fecha_Enviada_por_el_Cliente', ylabel='Density'>"
      ]
     },
     "execution_count": 22,
     "metadata": {},
     "output_type": "execute_result"
    },
    {
     "data": {
      "image/png": "[encoded data removed]",
      "text/plain": [
       "<Figure size 432x288 with 1 Axes>"
      ]
     },
     "metadata": {
      "needs_background": "light"
     },
     "output_type": "display_data"
    }
   ],
   "source": [
    "sns.kdeplot(data=nudf['Fecha_Enviada_por_el_Cliente'], shade=True)"
   ]
  },
  {
   "cell_type": "markdown",
   "metadata": {},
   "source": [
    "- De la gráfica anterior, podemos visualizar que las quejas enviadas por los clientes han ido aumentando conforme pasa el tiempo (a partir del año del 2016 baja dada la poca cantidad de datos de ese periodo)."
   ]
  },
  {
   "cell_type": "code",
   "execution_count": 23,
   "metadata": {},
   "outputs": [
    {
     "data": {
      "text/plain": [
       "Text(1448.175, 0.5, 'Número de quejas')"
      ]
     },
     "execution_count": 23,
     "metadata": {},
     "output_type": "execute_result"
    },
    {
     "data": {
      "image/png": "[encoded data removed]",
      "text/plain": [
       "<Figure size 1728x360 with 6 Axes>"
      ]
     },
     "metadata": {
      "needs_background": "light"
     },
     "output_type": "display_data"
    }
   ],
   "source": [
    "sns.catplot(y= \"Diferencia de Tiempo\", kind=\"strip\", data=nudf, aspect= 0.8, col = \"Medio_de_Envío\")\n",
    "plt.title(\"Cantidad de quejas por tiempo de respuesta\")\n",
    "plt.ylabel(\"Número de quejas\")"
   ]
  },
  {
   "cell_type": "markdown",
   "metadata": {},
   "source": [
    "- El dato atípico supuesto en la sección de *\"Estadística Básica\"*,fue enviada por la web y las quejas con más longitud de tiempo de respuesta es por web, mientras que la menor es por email."
   ]
  },
  {
   "cell_type": "code",
   "execution_count": 24,
   "metadata": {},
   "outputs": [
    {
     "data": {
      "text/plain": [
       "Text(30.345190972222213, 0.5, 'Número de quejas')"
      ]
     },
     "execution_count": 24,
     "metadata": {},
     "output_type": "execute_result"
    },
    {
     "data": {
      "image/png": "[encoded data removed]",
      "text/plain": [
       "<Figure size 1450.38x360 with 1 Axes>"
      ]
     },
     "metadata": {
      "needs_background": "light"
     },
     "output_type": "display_data"
    }
   ],
   "source": [
    "sns.catplot(x= \"Diminutivo_de_Estado_de_USA\", kind=\"count\", data=nudf, aspect= 3.5, hue= \"¿Cliente_insastifecho_a_la_solución?\")\n",
    "plt.title(\"Cantidad de clientes por estado\")\n",
    "plt.ylabel(\"Número de quejas\")"
   ]
  },
  {
   "cell_type": "markdown",
   "metadata": {},
   "source": [
    "- Los estados con mayor satisfacción al cliente son California (CA), Florida (FL), Texas (TX) y New York (NY).(Barras Naranjas)"
   ]
  },
  {
   "cell_type": "markdown",
   "metadata": {},
   "source": [
    "## Conclusión de la Sección *\"Gráficas\"*\n",
    "Encontramos que, con el análisis de los resultados de las gráficas, los estados de mayor número de quejas (California, Florida Texas), también tiene la mayor cantidad de clientes satisfechos con la solución de su queja; Al ver la gráfica de la densidad, notamos que las quejas han ido aumentando gradualmente, y llega a su punto máximo a mediados del 2015 y de ahí se va reduciendo gradualmente (sabiendo que a partir del 2016 no hay más registros dado que es el límite de la base de datos); El tipo de envío, tanto web, como expediente de remisión, tienen casi el mismo tiempo máximo de respuesta, a pesar de las diferentes cantidades de cada una, por lo que realizar una queja por la web que presencialmente en el banco toma casi el mismo tiempo (considerando los datos concentrados de la gráfica strip). A pesar de que hicimos limpieza al principio de nuestro estudio, no considerabamos que al utilizar los datos para realizar los estadísticos descriptivas y analíticos, obtener datos incongruentes como lo fue el tiempo de respuesta y los diminutivos que no son considerados estados. Por lo que pudimos responder los objetivos secundarios, propuestos al principio del estudio."
   ]
  },
  {
   "cell_type": "markdown",
   "metadata": {},
   "source": [
    "# Técnicas de Minería\n",
    "- En este estudio, emplearemos la técnica de Regresión Lineal Simple, donde podremos responder uno de los objetivos principales; Ésta técnica de minería, nos porprocionará información para estimar resultados futuros usando los datos históricos de nuestra base de datos modificada. También emplearemos la técnica de visualización para responder otro objetivos¿ principal, ya que organizando la información con esta técnica, nos dará las respuestas buscadas. El último objetivo se obtendrá realizando una investigación fuera del estudio. Empezaremos por encontrar los 5 bancos más grandes de USA:"
   ]
  },
  {
   "cell_type": "code",
   "execution_count": 27,
   "metadata": {},
   "outputs": [],
   "source": [
    "Jpmorgan = nudf.drop(nudf[nudf['Banco']!='JPMorgan Chase & Co.'].index)\n",
    "Banka = nudf.drop(nudf[nudf['Banco']!='Bank of America'].index)\n",
    "Wells = nudf.drop(nudf[nudf['Banco']!='Wells Fargo & Company'].index)\n",
    "Citi = nudf.drop(nudf[nudf['Banco']!='Citibank'].index)\n",
    "Bancorp = nudf.drop(nudf[nudf['Banco']!='U.S. Bancorp'].index)\n",
    "\n",
    "Jpmorgan=Jpmorgan.groupby(['Diminutivo_de_Estado_de_USA']).count()\n",
    "Jpmorgan=Jpmorgan.drop(['Fecha_Enviada_por_el_Cliente','Queja','Banco','Medio_de_Envío','Fecha_Recibida_al_Banco','Formato respuesta al cliente','¿Se_evaluó_a_tiempo_la_respuesta_de_la_queja?','¿Cliente_insastifecho_a_la_solución?','Diferencia de Tiempo'],axis = 1)\n",
    "\n",
    "Banka=Banka.groupby(['Diminutivo_de_Estado_de_USA']).count()\n",
    "Banka=Banka.drop(['Fecha_Enviada_por_el_Cliente','Queja','Banco','Medio_de_Envío','Fecha_Recibida_al_Banco','Formato respuesta al cliente','¿Se_evaluó_a_tiempo_la_respuesta_de_la_queja?','¿Cliente_insastifecho_a_la_solución?','Diferencia de Tiempo'],axis = 1)\n",
    "\n",
    "Wells=Wells.groupby(['Diminutivo_de_Estado_de_USA']).count()\n",
    "Wells=Wells.drop(['Fecha_Enviada_por_el_Cliente','Queja','Banco','Medio_de_Envío','Fecha_Recibida_al_Banco','Formato respuesta al cliente','¿Se_evaluó_a_tiempo_la_respuesta_de_la_queja?','¿Cliente_insastifecho_a_la_solución?','Diferencia de Tiempo'],axis = 1)\n",
    "\n",
    "Citi=Citi.groupby(['Diminutivo_de_Estado_de_USA']).count()\n",
    "Citi=Citi.drop(['Fecha_Enviada_por_el_Cliente','Queja','Banco','Medio_de_Envío','Fecha_Recibida_al_Banco','Formato respuesta al cliente','¿Se_evaluó_a_tiempo_la_respuesta_de_la_queja?','¿Cliente_insastifecho_a_la_solución?','Diferencia de Tiempo'],axis = 1)\n",
    "\n",
    "Bancorp=Bancorp.groupby(['Diminutivo_de_Estado_de_USA']).count()\n",
    "Bancorp=Bancorp.drop(['Fecha_Enviada_por_el_Cliente','Queja','Banco','Medio_de_Envío','Fecha_Recibida_al_Banco','Formato respuesta al cliente','¿Se_evaluó_a_tiempo_la_respuesta_de_la_queja?','¿Cliente_insastifecho_a_la_solución?','Diferencia de Tiempo'],axis = 1)"
   ]
  },
  {
   "cell_type": "markdown",
   "metadata": {},
   "source": [
    "- Generamos 5 bases, 1 por banco, para realizar nuestros análisis y se agruparon por estado para contabilizar la cantidad de quejas, y de ahí eliminamos las columnas restantes para quedarnos con las siguientes respuestas:"
   ]
  },
  {
   "cell_type": "code",
   "execution_count": 28,
   "metadata": {},
   "outputs": [
    {
     "data": {
      "text/html": [
       "<div>\n",
       "<style scoped>\n",
       "    .dataframe tbody tr th:only-of-type {\n",
       "        vertical-align: middle;\n",
       "    }\n",
       "\n",
       "    .dataframe tbody tr th {\n",
       "        vertical-align: top;\n",
       "    }\n",
       "\n",
       "    .dataframe thead th {\n",
       "        text-align: right;\n",
       "    }\n",
       "</style>\n",
       "<table border=\"1\" class=\"dataframe\">\n",
       "  <thead>\n",
       "    <tr style=\"text-align: right;\">\n",
       "      <th></th>\n",
       "      <th>Producto_Financiero</th>\n",
       "    </tr>\n",
       "    <tr>\n",
       "      <th>Diminutivo_de_Estado_de_USA</th>\n",
       "      <th></th>\n",
       "    </tr>\n",
       "  </thead>\n",
       "  <tbody>\n",
       "    <tr>\n",
       "      <th>CA</th>\n",
       "      <td>5952</td>\n",
       "    </tr>\n",
       "  </tbody>\n",
       "</table>\n",
       "</div>"
      ],
      "text/plain": [
       "                             Producto_Financiero\n",
       "Diminutivo_de_Estado_de_USA                     \n",
       "CA                                          5952"
      ]
     },
     "execution_count": 28,
     "metadata": {},
     "output_type": "execute_result"
    }
   ],
   "source": [
    "Jpmorgan.sort_values(by=\"Producto_Financiero\",ascending=False).head(1)"
   ]
  },
  {
   "cell_type": "code",
   "execution_count": 29,
   "metadata": {},
   "outputs": [
    {
     "data": {
      "text/html": [
       "<div>\n",
       "<style scoped>\n",
       "    .dataframe tbody tr th:only-of-type {\n",
       "        vertical-align: middle;\n",
       "    }\n",
       "\n",
       "    .dataframe tbody tr th {\n",
       "        vertical-align: top;\n",
       "    }\n",
       "\n",
       "    .dataframe thead th {\n",
       "        text-align: right;\n",
       "    }\n",
       "</style>\n",
       "<table border=\"1\" class=\"dataframe\">\n",
       "  <thead>\n",
       "    <tr style=\"text-align: right;\">\n",
       "      <th></th>\n",
       "      <th>Producto_Financiero</th>\n",
       "    </tr>\n",
       "    <tr>\n",
       "      <th>Diminutivo_de_Estado_de_USA</th>\n",
       "      <th></th>\n",
       "    </tr>\n",
       "  </thead>\n",
       "  <tbody>\n",
       "    <tr>\n",
       "      <th>CA</th>\n",
       "      <td>10650</td>\n",
       "    </tr>\n",
       "  </tbody>\n",
       "</table>\n",
       "</div>"
      ],
      "text/plain": [
       "                             Producto_Financiero\n",
       "Diminutivo_de_Estado_de_USA                     \n",
       "CA                                         10650"
      ]
     },
     "execution_count": 29,
     "metadata": {},
     "output_type": "execute_result"
    }
   ],
   "source": [
    "Banka.sort_values(by=\"Producto_Financiero\",ascending=False).head(1)"
   ]
  },
  {
   "cell_type": "code",
   "execution_count": 30,
   "metadata": {},
   "outputs": [
    {
     "data": {
      "text/html": [
       "<div>\n",
       "<style scoped>\n",
       "    .dataframe tbody tr th:only-of-type {\n",
       "        vertical-align: middle;\n",
       "    }\n",
       "\n",
       "    .dataframe tbody tr th {\n",
       "        vertical-align: top;\n",
       "    }\n",
       "\n",
       "    .dataframe thead th {\n",
       "        text-align: right;\n",
       "    }\n",
       "</style>\n",
       "<table border=\"1\" class=\"dataframe\">\n",
       "  <thead>\n",
       "    <tr style=\"text-align: right;\">\n",
       "      <th></th>\n",
       "      <th>Producto_Financiero</th>\n",
       "    </tr>\n",
       "    <tr>\n",
       "      <th>Diminutivo_de_Estado_de_USA</th>\n",
       "      <th></th>\n",
       "    </tr>\n",
       "  </thead>\n",
       "  <tbody>\n",
       "    <tr>\n",
       "      <th>CA</th>\n",
       "      <td>7994</td>\n",
       "    </tr>\n",
       "  </tbody>\n",
       "</table>\n",
       "</div>"
      ],
      "text/plain": [
       "                             Producto_Financiero\n",
       "Diminutivo_de_Estado_de_USA                     \n",
       "CA                                          7994"
      ]
     },
     "execution_count": 30,
     "metadata": {},
     "output_type": "execute_result"
    }
   ],
   "source": [
    "Wells.sort_values(by=\"Producto_Financiero\",ascending=False).head(1)"
   ]
  },
  {
   "cell_type": "code",
   "execution_count": 31,
   "metadata": {},
   "outputs": [
    {
     "data": {
      "text/html": [
       "<div>\n",
       "<style scoped>\n",
       "    .dataframe tbody tr th:only-of-type {\n",
       "        vertical-align: middle;\n",
       "    }\n",
       "\n",
       "    .dataframe tbody tr th {\n",
       "        vertical-align: top;\n",
       "    }\n",
       "\n",
       "    .dataframe thead th {\n",
       "        text-align: right;\n",
       "    }\n",
       "</style>\n",
       "<table border=\"1\" class=\"dataframe\">\n",
       "  <thead>\n",
       "    <tr style=\"text-align: right;\">\n",
       "      <th></th>\n",
       "      <th>Producto_Financiero</th>\n",
       "    </tr>\n",
       "    <tr>\n",
       "      <th>Diminutivo_de_Estado_de_USA</th>\n",
       "      <th></th>\n",
       "    </tr>\n",
       "  </thead>\n",
       "  <tbody>\n",
       "    <tr>\n",
       "      <th>CA</th>\n",
       "      <td>3628</td>\n",
       "    </tr>\n",
       "  </tbody>\n",
       "</table>\n",
       "</div>"
      ],
      "text/plain": [
       "                             Producto_Financiero\n",
       "Diminutivo_de_Estado_de_USA                     \n",
       "CA                                          3628"
      ]
     },
     "execution_count": 31,
     "metadata": {},
     "output_type": "execute_result"
    }
   ],
   "source": [
    "Citi.sort_values(by=\"Producto_Financiero\",ascending=False).head(1)"
   ]
  },
  {
   "cell_type": "code",
   "execution_count": 32,
   "metadata": {},
   "outputs": [
    {
     "data": {
      "text/html": [
       "<div>\n",
       "<style scoped>\n",
       "    .dataframe tbody tr th:only-of-type {\n",
       "        vertical-align: middle;\n",
       "    }\n",
       "\n",
       "    .dataframe tbody tr th {\n",
       "        vertical-align: top;\n",
       "    }\n",
       "\n",
       "    .dataframe thead th {\n",
       "        text-align: right;\n",
       "    }\n",
       "</style>\n",
       "<table border=\"1\" class=\"dataframe\">\n",
       "  <thead>\n",
       "    <tr style=\"text-align: right;\">\n",
       "      <th></th>\n",
       "      <th>Producto_Financiero</th>\n",
       "    </tr>\n",
       "    <tr>\n",
       "      <th>Diminutivo_de_Estado_de_USA</th>\n",
       "      <th></th>\n",
       "    </tr>\n",
       "  </thead>\n",
       "  <tbody>\n",
       "    <tr>\n",
       "      <th>CA</th>\n",
       "      <td>1674</td>\n",
       "    </tr>\n",
       "  </tbody>\n",
       "</table>\n",
       "</div>"
      ],
      "text/plain": [
       "                             Producto_Financiero\n",
       "Diminutivo_de_Estado_de_USA                     \n",
       "CA                                          1674"
      ]
     },
     "execution_count": 32,
     "metadata": {},
     "output_type": "execute_result"
    }
   ],
   "source": [
    "Bancorp.sort_values(by=\"Producto_Financiero\",ascending=False).head(1)"
   ]
  },
  {
   "cell_type": "markdown",
   "metadata": {},
   "source": [
    "- De los resultados anteriores, California (CA) es el estado con mayor quejas en cada uno de los 5 bancos más grandes de USA. Ahora, crearemos otras 5 bases de datos para realizar las predicciones de clientes satisfechos con la técnica de Regresión Lineal Simple en el estado de California; después haremos las respectivas agrupaciones y eliminaremos las columnas restantes para quedarnos con la cantidad de quejas por banco en California por mes:"
   ]
  },
  {
   "cell_type": "code",
   "execution_count": 38,
   "metadata": {},
   "outputs": [],
   "source": [
    "#Obtenemos las bases por el estado de California, Clientes satisfechos y por banco\n",
    "nudf = nudf.drop(nudf[nudf['Diminutivo_de_Estado_de_USA']!=\"CA\"].index)\n",
    "nudf = nudf.drop(nudf[nudf['¿Cliente_insastifecho_a_la_solución?']!=\"No\"].index)\n",
    "\n",
    "Jpmorgan1 = nudf.drop(nudf[nudf['Banco']!='JPMorgan Chase & Co.'].index)\n",
    "Banka1 = nudf.drop(nudf[nudf['Banco']!='Bank of America'].index)\n",
    "Wells1 = nudf.drop(nudf[nudf['Banco']!='Wells Fargo & Company'].index)\n",
    "Citi1 = nudf.drop(nudf[nudf['Banco']!='Citibank'].index)\n",
    "Bancorp1 = nudf.drop(nudf[nudf['Banco']!='U.S. Bancorp'].index)\n",
    "\n",
    "Jpmorgan1=Jpmorgan1.groupby(Jpmorgan1['Fecha_Recibida_al_Banco'].dt.strftime(\"%Y %m\")).count()\n",
    "Jpmorgan1=Jpmorgan1.drop(['Fecha_Enviada_por_el_Cliente','Queja','Banco','Medio_de_Envío','Fecha_Recibida_al_Banco','Formato respuesta al cliente','¿Se_evaluó_a_tiempo_la_respuesta_de_la_queja?','¿Cliente_insastifecho_a_la_solución?','Diminutivo_de_Estado_de_USA','Diferencia de Tiempo'],axis = 1)\n",
    "\n",
    "Banka1=Banka1.groupby(Banka1['Fecha_Recibida_al_Banco'].dt.strftime(\"%Y %m\")).count()\n",
    "Banka1=Banka1.drop(['Fecha_Enviada_por_el_Cliente','Queja','Banco','Medio_de_Envío','Fecha_Recibida_al_Banco','Formato respuesta al cliente','¿Se_evaluó_a_tiempo_la_respuesta_de_la_queja?','¿Cliente_insastifecho_a_la_solución?','Diminutivo_de_Estado_de_USA','Diferencia de Tiempo'],axis = 1)\n",
    "\n",
    "Wells1=Wells1.groupby(Wells1['Fecha_Recibida_al_Banco'].dt.strftime(\"%Y %m\")).count()\n",
    "Wells1=Wells1.drop(['Fecha_Enviada_por_el_Cliente','Queja','Banco','Medio_de_Envío','Fecha_Recibida_al_Banco','Formato respuesta al cliente','¿Se_evaluó_a_tiempo_la_respuesta_de_la_queja?','¿Cliente_insastifecho_a_la_solución?','Diminutivo_de_Estado_de_USA','Diferencia de Tiempo'],axis = 1)\n",
    "\n",
    "Citi1=Citi1.groupby(Citi1['Fecha_Recibida_al_Banco'].dt.strftime(\"%Y %m\")).count()\n",
    "Citi1=Citi1.drop(['Fecha_Enviada_por_el_Cliente','Queja','Banco','Medio_de_Envío','Fecha_Recibida_al_Banco','Formato respuesta al cliente','¿Se_evaluó_a_tiempo_la_respuesta_de_la_queja?','¿Cliente_insastifecho_a_la_solución?','Diminutivo_de_Estado_de_USA','Diferencia de Tiempo'],axis = 1)\n",
    "\n",
    "Bancorp1=Bancorp1.groupby(Bancorp1['Fecha_Recibida_al_Banco'].dt.strftime(\"%Y %m\")).count()\n",
    "Bancorp1=Bancorp1.drop(['Fecha_Enviada_por_el_Cliente','Queja','Banco','Medio_de_Envío','Fecha_Recibida_al_Banco','Formato respuesta al cliente','¿Se_evaluó_a_tiempo_la_respuesta_de_la_queja?','¿Cliente_insastifecho_a_la_solución?','Diminutivo_de_Estado_de_USA','Diferencia de Tiempo'],axis = 1)"
   ]
  },
  {
   "cell_type": "markdown",
   "metadata": {},
   "source": [
    "- Luego, agregamos una columna para enumerar las quejas por mes por banco, ya que la columna que proporciona la función de *groupby()* es una referencia de visualización, no forma parte de la base de datos."
   ]
  },
  {
   "cell_type": "code",
   "execution_count": 71,
   "metadata": {},
   "outputs": [],
   "source": [
    "num=[]\n",
    "for i in range(1,54):\n",
    "    num.append(i)\n",
    "\n",
    "Jpmorgan1=Jpmorgan1.assign(Numeros=num)\n",
    "Banka1=Banka1.assign(Numeros=num)\n",
    "Wells1=Wells1.assign(Numeros=num)\n",
    "Citi1=Citi1.assign(Numeros=num)\n",
    "Bancorp1=Bancorp1.assign(Numeros=num)"
   ]
  },
  {
   "cell_type": "markdown",
   "metadata": {},
   "source": [
    "- Y con estas modificaciones, ya podemos usar la técnica de Regresión Lineal Simple:"
   ]
  },
  {
   "cell_type": "code",
   "execution_count": 42,
   "metadata": {},
   "outputs": [],
   "source": [
    "from statsmodels.formula.api import ols\n",
    "from sklearn.feature_selection import RFE\n",
    "from sklearn.linear_model import LinearRegression\n",
    "import statsmodels.api as sm\n",
    "from sklearn.metrics import mean_squared_error\n",
    "from statsmodels.stats.outliers_influence import variance_inflation_factor\n",
    "\n",
    "def build_model(X,y):\n",
    "    X = sm.add_constant(X) #Adding the constant\n",
    "    lm = sm.OLS(y,X).fit() # fitting the model\n",
    "    print(lm.summary()) # model summary\n",
    "    \n",
    "    return X\n",
    "\n",
    "def checkVIF(X):\n",
    "    vif = pd.DataFrame()\n",
    "    vif['Variables'] = X.columns\n",
    "    vif['VIF'] = [variance_inflation_factor(X.values, i) for i in range(X.shape[1])]\n",
    "    vif['VIF'] = round(vif['VIF'], 2)\n",
    "    return(vif)"
   ]
  },
  {
   "cell_type": "markdown",
   "metadata": {},
   "source": [
    "# ***JPMorgan Chase & Co.***"
   ]
  },
  {
   "cell_type": "code",
   "execution_count": 46,
   "metadata": {},
   "outputs": [
    {
     "name": "stdout",
     "output_type": "stream",
     "text": [
      "                             OLS Regression Results                            \n",
      "===============================================================================\n",
      "Dep. Variable:     Producto_Financiero   R-squared:                       0.000\n",
      "Model:                             OLS   Adj. R-squared:                 -0.019\n",
      "Method:                  Least Squares   F-statistic:                   0.02266\n",
      "Date:                 Tue, 19 Oct 2021   Prob (F-statistic):              0.881\n",
      "Time:                         01:59:56   Log-Likelihood:                -233.70\n",
      "No. Observations:                   53   AIC:                             471.4\n",
      "Df Residuals:                       51   BIC:                             475.3\n",
      "Df Model:                            1                                         \n",
      "Covariance Type:             nonrobust                                         \n",
      "==============================================================================\n",
      "                 coef    std err          t      P>|t|      [0.025      0.975]\n",
      "------------------------------------------------------------------------------\n",
      "const         85.5515      5.651     15.138      0.000      74.206      96.897\n",
      "x             -0.0274      0.182     -0.151      0.881      -0.393       0.338\n",
      "==============================================================================\n",
      "Omnibus:                        7.662   Durbin-Watson:                   1.219\n",
      "Prob(Omnibus):                  0.022   Jarque-Bera (JB):                2.736\n",
      "Skew:                           0.170   Prob(JB):                        0.255\n",
      "Kurtosis:                       1.940   Cond. No.                         63.0\n",
      "==============================================================================\n",
      "\n",
      "Notes:\n",
      "[1] Standard Errors assume that the covariance matrix of the errors is correctly specified.\n"
     ]
    }
   ],
   "source": [
    "#Fit model\n",
    "y=Jpmorgan1['Producto_Financiero']\n",
    "x=Jpmorgan1['Numeros']\n",
    "d = {\"x\": x}\n",
    "X=pd.DataFrame(d)\n",
    "model1=build_model(X,y)"
   ]
  },
  {
   "cell_type": "markdown",
   "metadata": {},
   "source": [
    "- Tiene un ajuste R cuadrado de 0, por lo que el ajuste de los datos al modelo lineal es muy deficiente, por lo que graficar este modelo da como resultado la recta estimada rodeada de valores dispersos."
   ]
  },
  {
   "cell_type": "code",
   "execution_count": 47,
   "metadata": {},
   "outputs": [
    {
     "data": {
      "text/plain": [
       "[<matplotlib.lines.Line2D at 0x27f96a33d30>]"
      ]
     },
     "execution_count": 47,
     "metadata": {},
     "output_type": "execute_result"
    },
    {
     "data": {
      "image/png": "[encoded data removed]",
      "text/plain": [
       "<Figure size 432x288 with 1 Axes>"
      ]
     },
     "metadata": {
      "needs_background": "light"
     },
     "output_type": "display_data"
    }
   ],
   "source": [
    "plt.plot(x, y, 'o')\n",
    "a, b= np.polyfit(x, y, 1)\n",
    "plt.plot(x, a*x + b)"
   ]
  },
  {
   "cell_type": "markdown",
   "metadata": {},
   "source": [
    "- Procedemos a realizar el modelo lineal cuadrático."
   ]
  },
  {
   "cell_type": "code",
   "execution_count": 49,
   "metadata": {},
   "outputs": [
    {
     "name": "stdout",
     "output_type": "stream",
     "text": [
      "                             OLS Regression Results                            \n",
      "===============================================================================\n",
      "Dep. Variable:     Producto_Financiero   R-squared:                       0.988\n",
      "Model:                             OLS   Adj. R-squared:                  0.988\n",
      "Method:                  Least Squares   F-statistic:                     2107.\n",
      "Date:                 Tue, 19 Oct 2021   Prob (F-statistic):           5.36e-49\n",
      "Time:                         02:02:26   Log-Likelihood:                -115.89\n",
      "No. Observations:                   53   AIC:                             237.8\n",
      "Df Residuals:                       50   BIC:                             243.7\n",
      "Df Model:                            2                                         \n",
      "Covariance Type:             nonrobust                                         \n",
      "==============================================================================\n",
      "                 coef    std err          t      P>|t|      [0.025      0.975]\n",
      "------------------------------------------------------------------------------\n",
      "const         41.1599      0.922     44.644      0.000      39.308      43.012\n",
      "x              0.0118      0.020      0.593      0.556      -0.028       0.052\n",
      "x_2            0.0057    8.8e-05     64.901      0.000       0.006       0.006\n",
      "==============================================================================\n",
      "Omnibus:                        7.727   Durbin-Watson:                   1.727\n",
      "Prob(Omnibus):                  0.021   Jarque-Bera (JB):                7.771\n",
      "Skew:                          -0.938   Prob(JB):                       0.0205\n",
      "Kurtosis:                       2.985   Cond. No.                     2.52e+04\n",
      "==============================================================================\n",
      "\n",
      "Notes:\n",
      "[1] Standard Errors assume that the covariance matrix of the errors is correctly specified.\n",
      "[2] The condition number is large, 2.52e+04. This might indicate that there are\n",
      "strong multicollinearity or other numerical problems.\n"
     ]
    }
   ],
   "source": [
    "x_2=Jpmorgan1['Producto_Financiero']**2\n",
    "d2 = {\"x\":x, \"x_2\":x_2}\n",
    "X_2=pd.DataFrame(d2)\n",
    "mod3=build_model(X_2,y)"
   ]
  },
  {
   "cell_type": "markdown",
   "metadata": {},
   "source": [
    "- Hay un ajuste R cuadrado de 0.988, por lo que los datos tienen un buen ajuste al modelo cuadrático. El p-valor de esta regresión es de 5.36e-49, por lo que es menor a un nivel de significancia del 5% (p-valor < alpha), por lo que los datos se distribuyen de forma significativa."
   ]
  },
  {
   "cell_type": "code",
   "execution_count": 50,
   "metadata": {},
   "outputs": [
    {
     "data": {
      "text/plain": [
       "[<matplotlib.lines.Line2D at 0x27f96b11a90>]"
      ]
     },
     "execution_count": 50,
     "metadata": {},
     "output_type": "execute_result"
    },
    {
     "data": {
      "image/png": "[encoded data removed]",
      "text/plain": [
       "<Figure size 432x288 with 1 Axes>"
      ]
     },
     "metadata": {
      "needs_background": "light"
     },
     "output_type": "display_data"
    }
   ],
   "source": [
    "plt.plot(x, y, 'o')\n",
    "a,b,c = np.polyfit(x, y, 2)\n",
    "plt.plot(x, a*x*x +b*x + c)"
   ]
  },
  {
   "cell_type": "markdown",
   "metadata": {},
   "source": [
    "- **Nota:** Consideramos que las escalas no son las adecuadas para visualizar el ajuste."
   ]
  },
  {
   "cell_type": "markdown",
   "metadata": {},
   "source": [
    "- Procedemos a realizar la predicción:"
   ]
  },
  {
   "cell_type": "code",
   "execution_count": 51,
   "metadata": {},
   "outputs": [
    {
     "data": {
      "text/plain": [
       "array([62.42522656])"
      ]
     },
     "execution_count": 51,
     "metadata": {},
     "output_type": "execute_result"
    }
   ],
   "source": [
    "X_2=sm.add_constant(X_2)\n",
    "y_pred = sm.OLS(y,X_2).fit().predict([1,60,60**2]) #lo que está dentro del arreglo es lo que multiplica a las betas, incluyendo B0\n",
    "y_pred"
   ]
  },
  {
   "cell_type": "markdown",
   "metadata": {},
   "source": [
    "# ***Bank of America***"
   ]
  },
  {
   "cell_type": "code",
   "execution_count": 52,
   "metadata": {},
   "outputs": [
    {
     "name": "stdout",
     "output_type": "stream",
     "text": [
      "                             OLS Regression Results                            \n",
      "===============================================================================\n",
      "Dep. Variable:     Producto_Financiero   R-squared:                       0.357\n",
      "Model:                             OLS   Adj. R-squared:                  0.344\n",
      "Method:                  Least Squares   F-statistic:                     28.30\n",
      "Date:                 Tue, 19 Oct 2021   Prob (F-statistic):           2.33e-06\n",
      "Time:                         02:07:09   Log-Likelihood:                -280.68\n",
      "No. Observations:                   53   AIC:                             565.4\n",
      "Df Residuals:                       51   BIC:                             569.3\n",
      "Df Model:                            1                                         \n",
      "Covariance Type:             nonrobust                                         \n",
      "==============================================================================\n",
      "                 coef    std err          t      P>|t|      [0.025      0.975]\n",
      "------------------------------------------------------------------------------\n",
      "const        217.6190     13.712     15.871      0.000     190.091     245.147\n",
      "x             -2.3507      0.442     -5.320      0.000      -3.238      -1.464\n",
      "==============================================================================\n",
      "Omnibus:                        8.843   Durbin-Watson:                   0.779\n",
      "Prob(Omnibus):                  0.012   Jarque-Bera (JB):               13.663\n",
      "Skew:                           0.438   Prob(JB):                      0.00108\n",
      "Kurtosis:                       5.328   Cond. No.                         63.0\n",
      "==============================================================================\n",
      "\n",
      "Notes:\n",
      "[1] Standard Errors assume that the covariance matrix of the errors is correctly specified.\n"
     ]
    }
   ],
   "source": [
    "#Fit model\n",
    "y=Banka1['Producto_Financiero']\n",
    "x=Banka1['Numeros']\n",
    "d = {\"x\": x}\n",
    "X=pd.DataFrame(d)\n",
    "model1=build_model(X,y)"
   ]
  },
  {
   "cell_type": "markdown",
   "metadata": {},
   "source": [
    "- Tiene un ajuste R cuadrado de 0.357, por lo que el ajuste de los datos al modelo lineal es deficiente, por lo que graficar este modelo da como resultado la recta estimada rodeada de valores dispersos."
   ]
  },
  {
   "cell_type": "markdown",
   "metadata": {},
   "source": [
    "- Procedemos a realizar el modelo lineal cuadrático."
   ]
  },
  {
   "cell_type": "code",
   "execution_count": 54,
   "metadata": {},
   "outputs": [
    {
     "name": "stdout",
     "output_type": "stream",
     "text": [
      "                             OLS Regression Results                            \n",
      "===============================================================================\n",
      "Dep. Variable:     Producto_Financiero   R-squared:                       0.966\n",
      "Model:                             OLS   Adj. R-squared:                  0.965\n",
      "Method:                  Least Squares   F-statistic:                     716.4\n",
      "Date:                 Tue, 19 Oct 2021   Prob (F-statistic):           1.57e-37\n",
      "Time:                         02:09:57   Log-Likelihood:                -202.55\n",
      "No. Observations:                   53   AIC:                             411.1\n",
      "Df Residuals:                       50   BIC:                             417.0\n",
      "Df Model:                            2                                         \n",
      "Covariance Type:             nonrobust                                         \n",
      "==============================================================================\n",
      "                 coef    std err          t      P>|t|      [0.025      0.975]\n",
      "------------------------------------------------------------------------------\n",
      "const         92.3209      5.237     17.628      0.000      81.802     102.840\n",
      "x             -0.3029      0.123     -2.466      0.017      -0.550      -0.056\n",
      "x_2            0.0026    8.5e-05     30.061      0.000       0.002       0.003\n",
      "==============================================================================\n",
      "Omnibus:                       26.544   Durbin-Watson:                   1.848\n",
      "Prob(Omnibus):                  0.000   Jarque-Bera (JB):               47.552\n",
      "Skew:                          -1.598   Prob(JB):                     4.72e-11\n",
      "Kurtosis:                       6.365   Cond. No.                     1.18e+05\n",
      "==============================================================================\n",
      "\n",
      "Notes:\n",
      "[1] Standard Errors assume that the covariance matrix of the errors is correctly specified.\n",
      "[2] The condition number is large, 1.18e+05. This might indicate that there are\n",
      "strong multicollinearity or other numerical problems.\n"
     ]
    }
   ],
   "source": [
    "x_2=Banka1['Producto_Financiero']**2\n",
    "d2 = {\"x\":x, \"x_2\":x_2}\n",
    "X_2=pd.DataFrame(d2)\n",
    "mod3=build_model(X_2,y)"
   ]
  },
  {
   "cell_type": "markdown",
   "metadata": {},
   "source": [
    "- Hay un ajuste R cuadrado de 0.966, por lo que los datos tienen un buen ajuste al modelo cuadrático.El p-valor de esta regresión es de 1.57e-37, por lo que es menor a un nivel de significancia del 5% (p-valor < alpha), por lo que los datos se distribuyen de forma significativa."
   ]
  },
  {
   "cell_type": "code",
   "execution_count": 55,
   "metadata": {},
   "outputs": [
    {
     "data": {
      "text/plain": [
       "[<matplotlib.lines.Line2D at 0x27f96b8b5b0>]"
      ]
     },
     "execution_count": 55,
     "metadata": {},
     "output_type": "execute_result"
    },
    {
     "data": {
      "image/png": "[encoded data removed]",
      "text/plain": [
       "<Figure size 432x288 with 1 Axes>"
      ]
     },
     "metadata": {
      "needs_background": "light"
     },
     "output_type": "display_data"
    }
   ],
   "source": [
    "plt.plot(x, y, 'o')\n",
    "a,b,c = np.polyfit(x, y, 2)\n",
    "plt.plot(x, a*x*x +b*x + c)"
   ]
  },
  {
   "cell_type": "markdown",
   "metadata": {},
   "source": [
    "- Procedemos a realizar la predicción:"
   ]
  },
  {
   "cell_type": "code",
   "execution_count": 56,
   "metadata": {},
   "outputs": [
    {
     "data": {
      "text/plain": [
       "array([83.34968787])"
      ]
     },
     "execution_count": 56,
     "metadata": {},
     "output_type": "execute_result"
    }
   ],
   "source": [
    "X_2=sm.add_constant(X_2)\n",
    "y_pred = sm.OLS(y,X_2).fit().predict([1,60,60**2]) #lo que está dentro del arreglo es lo que multiplica a las betas, incluyendo B0\n",
    "y_pred"
   ]
  },
  {
   "cell_type": "markdown",
   "metadata": {},
   "source": [
    "# ***Wells Fargo & Company***"
   ]
  },
  {
   "cell_type": "code",
   "execution_count": 58,
   "metadata": {},
   "outputs": [
    {
     "name": "stdout",
     "output_type": "stream",
     "text": [
      "                             OLS Regression Results                            \n",
      "===============================================================================\n",
      "Dep. Variable:     Producto_Financiero   R-squared:                       0.018\n",
      "Model:                             OLS   Adj. R-squared:                 -0.001\n",
      "Method:                  Least Squares   F-statistic:                    0.9434\n",
      "Date:                 Tue, 19 Oct 2021   Prob (F-statistic):              0.336\n",
      "Time:                         02:13:28   Log-Likelihood:                -254.98\n",
      "No. Observations:                   53   AIC:                             514.0\n",
      "Df Residuals:                       51   BIC:                             517.9\n",
      "Df Model:                            1                                         \n",
      "Covariance Type:             nonrobust                                         \n",
      "==============================================================================\n",
      "                 coef    std err          t      P>|t|      [0.025      0.975]\n",
      "------------------------------------------------------------------------------\n",
      "const        120.7025      8.445     14.294      0.000     103.749     137.656\n",
      "x             -0.2643      0.272     -0.971      0.336      -0.811       0.282\n",
      "==============================================================================\n",
      "Omnibus:                        5.091   Durbin-Watson:                   0.838\n",
      "Prob(Omnibus):                  0.078   Jarque-Bera (JB):                5.136\n",
      "Skew:                          -0.329   Prob(JB):                       0.0767\n",
      "Kurtosis:                       4.376   Cond. No.                         63.0\n",
      "==============================================================================\n",
      "\n",
      "Notes:\n",
      "[1] Standard Errors assume that the covariance matrix of the errors is correctly specified.\n"
     ]
    }
   ],
   "source": [
    "#Fit model\n",
    "y=Wells1['Producto_Financiero']\n",
    "x=Wells1['Numeros']\n",
    "d = {\"x\": x}\n",
    "X=pd.DataFrame(d)\n",
    "model1=build_model(X,y)"
   ]
  },
  {
   "cell_type": "markdown",
   "metadata": {},
   "source": [
    "- Tiene un ajuste R cuadrado de 0.018, por lo que el ajuste de los datos al modelo lineal es muy deficiente, por lo que graficar este modelo da como resultado la recta estimada rodeada de valores dispersos."
   ]
  },
  {
   "cell_type": "markdown",
   "metadata": {},
   "source": [
    "- Procedemos a realizar el modelo lineal cuadrático."
   ]
  },
  {
   "cell_type": "code",
   "execution_count": 60,
   "metadata": {},
   "outputs": [
    {
     "name": "stdout",
     "output_type": "stream",
     "text": [
      "                             OLS Regression Results                            \n",
      "===============================================================================\n",
      "Dep. Variable:     Producto_Financiero   R-squared:                       0.953\n",
      "Model:                             OLS   Adj. R-squared:                  0.951\n",
      "Method:                  Least Squares   F-statistic:                     510.4\n",
      "Date:                 Tue, 19 Oct 2021   Prob (F-statistic):           5.40e-34\n",
      "Time:                         02:15:12   Log-Likelihood:                -174.27\n",
      "No. Observations:                   53   AIC:                             354.5\n",
      "Df Residuals:                       50   BIC:                             360.5\n",
      "Df Model:                            2                                         \n",
      "Covariance Type:             nonrobust                                         \n",
      "==============================================================================\n",
      "                 coef    std err          t      P>|t|      [0.025      0.975]\n",
      "------------------------------------------------------------------------------\n",
      "const         51.0127      2.883     17.696      0.000      45.223      56.803\n",
      "x              0.1243      0.061      2.031      0.048       0.001       0.247\n",
      "x_2            0.0043      0.000     31.643      0.000       0.004       0.005\n",
      "==============================================================================\n",
      "Omnibus:                       44.014   Durbin-Watson:                   1.248\n",
      "Prob(Omnibus):                  0.000   Jarque-Bera (JB):              137.684\n",
      "Skew:                          -2.403   Prob(JB):                     1.27e-30\n",
      "Kurtosis:                       9.265   Cond. No.                     4.85e+04\n",
      "==============================================================================\n",
      "\n",
      "Notes:\n",
      "[1] Standard Errors assume that the covariance matrix of the errors is correctly specified.\n",
      "[2] The condition number is large, 4.85e+04. This might indicate that there are\n",
      "strong multicollinearity or other numerical problems.\n"
     ]
    }
   ],
   "source": [
    "x_2=Wells1['Producto_Financiero']**2\n",
    "d2 = {\"x\":x, \"x_2\":x_2}\n",
    "X_2=pd.DataFrame(d2)\n",
    "mod3=build_model(X_2,y)"
   ]
  },
  {
   "cell_type": "markdown",
   "metadata": {},
   "source": [
    "- Hay un ajuste R cuadrado de 0.953, por lo que los datos tienen un buen ajuste al modelo cuadrático.El p-valor de esta regresión es de 5.40e-34, por lo que es menor a un nivel de significancia del 5% (p-valor < alpha), por lo que los datos se distribuyen de forma significativa."
   ]
  },
  {
   "cell_type": "code",
   "execution_count": 61,
   "metadata": {},
   "outputs": [
    {
     "data": {
      "text/plain": [
       "[<matplotlib.lines.Line2D at 0x27f96bf73d0>]"
      ]
     },
     "execution_count": 61,
     "metadata": {},
     "output_type": "execute_result"
    },
    {
     "data": {
      "image/png": "[encoded data removed]",
      "text/plain": [
       "<Figure size 432x288 with 1 Axes>"
      ]
     },
     "metadata": {
      "needs_background": "light"
     },
     "output_type": "display_data"
    }
   ],
   "source": [
    "plt.plot(x, y, 'o')\n",
    "a,b,c = np.polyfit(x, y, 2)\n",
    "plt.plot(x, a*x*x +b*x + c)"
   ]
  },
  {
   "cell_type": "markdown",
   "metadata": {},
   "source": [
    "- Procedemos a realizar la predicción:"
   ]
  },
  {
   "cell_type": "code",
   "execution_count": 62,
   "metadata": {},
   "outputs": [
    {
     "data": {
      "text/plain": [
       "array([73.91417127])"
      ]
     },
     "execution_count": 62,
     "metadata": {},
     "output_type": "execute_result"
    }
   ],
   "source": [
    "X_2=sm.add_constant(X_2)\n",
    "y_pred = sm.OLS(y,X_2).fit().predict([1,60,60**2]) #lo que está dentro del arreglo es lo que multiplica a las betas, incluyendo B0\n",
    "y_pred"
   ]
  },
  {
   "cell_type": "markdown",
   "metadata": {},
   "source": [
    "# ***Citibank***"
   ]
  },
  {
   "cell_type": "code",
   "execution_count": 63,
   "metadata": {},
   "outputs": [
    {
     "name": "stdout",
     "output_type": "stream",
     "text": [
      "                             OLS Regression Results                            \n",
      "===============================================================================\n",
      "Dep. Variable:     Producto_Financiero   R-squared:                       0.184\n",
      "Model:                             OLS   Adj. R-squared:                  0.168\n",
      "Method:                  Least Squares   F-statistic:                     11.49\n",
      "Date:                 Tue, 19 Oct 2021   Prob (F-statistic):            0.00136\n",
      "Time:                         02:18:03   Log-Likelihood:                -210.36\n",
      "No. Observations:                   53   AIC:                             424.7\n",
      "Df Residuals:                       51   BIC:                             428.7\n",
      "Df Model:                            1                                         \n",
      "Covariance Type:             nonrobust                                         \n",
      "==============================================================================\n",
      "                 coef    std err          t      P>|t|      [0.025      0.975]\n",
      "------------------------------------------------------------------------------\n",
      "const         41.7620      3.638     11.478      0.000      34.457      49.067\n",
      "x              0.3974      0.117      3.389      0.001       0.162       0.633\n",
      "==============================================================================\n",
      "Omnibus:                        2.995   Durbin-Watson:                   1.332\n",
      "Prob(Omnibus):                  0.224   Jarque-Bera (JB):                2.841\n",
      "Skew:                           0.548   Prob(JB):                        0.242\n",
      "Kurtosis:                       2.705   Cond. No.                         63.0\n",
      "==============================================================================\n",
      "\n",
      "Notes:\n",
      "[1] Standard Errors assume that the covariance matrix of the errors is correctly specified.\n"
     ]
    }
   ],
   "source": [
    "#Fit model\n",
    "y=Citi1['Producto_Financiero']\n",
    "x=Citi1['Numeros']\n",
    "d = {\"x\": x}\n",
    "X=pd.DataFrame(d)\n",
    "model1=build_model(X,y)"
   ]
  },
  {
   "cell_type": "markdown",
   "metadata": {},
   "source": [
    "- Tiene un ajuste R cuadrado de 0.184, por lo que el ajuste de los datos al modelo lineal es muy deficiente, por lo que graficar este modelo da como resultado la recta estimada rodeada de valores dispersos."
   ]
  },
  {
   "cell_type": "markdown",
   "metadata": {},
   "source": [
    "- Procedemos a realizar el modelo lineal cuadrático."
   ]
  },
  {
   "cell_type": "code",
   "execution_count": 65,
   "metadata": {},
   "outputs": [
    {
     "name": "stdout",
     "output_type": "stream",
     "text": [
      "                             OLS Regression Results                            \n",
      "===============================================================================\n",
      "Dep. Variable:     Producto_Financiero   R-squared:                       0.971\n",
      "Model:                             OLS   Adj. R-squared:                  0.970\n",
      "Method:                  Least Squares   F-statistic:                     837.1\n",
      "Date:                 Tue, 19 Oct 2021   Prob (F-statistic):           3.62e-39\n",
      "Time:                         02:19:17   Log-Likelihood:                -121.92\n",
      "No. Observations:                   53   AIC:                             249.8\n",
      "Df Residuals:                       50   BIC:                             255.7\n",
      "Df Model:                            2                                         \n",
      "Covariance Type:             nonrobust                                         \n",
      "==============================================================================\n",
      "                 coef    std err          t      P>|t|      [0.025      0.975]\n",
      "------------------------------------------------------------------------------\n",
      "const         27.8452      0.789     35.295      0.000      26.261      29.430\n",
      "x              0.0076      0.025      0.306      0.761      -0.042       0.057\n",
      "x_2            0.0083      0.000     36.842      0.000       0.008       0.009\n",
      "==============================================================================\n",
      "Omnibus:                       30.442   Durbin-Watson:                   1.071\n",
      "Prob(Omnibus):                  0.000   Jarque-Bera (JB):               57.542\n",
      "Skew:                          -1.844   Prob(JB):                     3.20e-13\n",
      "Kurtosis:                       6.529   Cond. No.                     7.86e+03\n",
      "==============================================================================\n",
      "\n",
      "Notes:\n",
      "[1] Standard Errors assume that the covariance matrix of the errors is correctly specified.\n",
      "[2] The condition number is large, 7.86e+03. This might indicate that there are\n",
      "strong multicollinearity or other numerical problems.\n"
     ]
    }
   ],
   "source": [
    "x_2=Citi1['Producto_Financiero']**2\n",
    "d2 = {\"x\":x, \"x_2\":x_2}\n",
    "X_2=pd.DataFrame(d2)\n",
    "mod3=build_model(X_2,y)"
   ]
  },
  {
   "cell_type": "markdown",
   "metadata": {},
   "source": [
    "- Hay un ajuste R cuadrado de 0.971, por lo que los datos tienen un buen ajuste al modelo cuadrático.El p-valor de esta regresión es de 3.62e-39, por lo que es menor a un nivel de significancia del 5% (p-valor < alpha), por lo que los datos se distribuyen de forma significativa."
   ]
  },
  {
   "cell_type": "code",
   "execution_count": 66,
   "metadata": {},
   "outputs": [
    {
     "data": {
      "text/plain": [
       "[<matplotlib.lines.Line2D at 0x27f96c5cdf0>]"
      ]
     },
     "execution_count": 66,
     "metadata": {},
     "output_type": "execute_result"
    },
    {
     "data": {
      "image/png": "[encoded data removed]",
      "text/plain": [
       "<Figure size 432x288 with 1 Axes>"
      ]
     },
     "metadata": {
      "needs_background": "light"
     },
     "output_type": "display_data"
    }
   ],
   "source": [
    "plt.plot(x, y, 'o')\n",
    "a,b,c = np.polyfit(x, y, 2)\n",
    "plt.plot(x, a*x*x +b*x + c)"
   ]
  },
  {
   "cell_type": "markdown",
   "metadata": {},
   "source": [
    "- Procedemos a realizar la predicción:"
   ]
  },
  {
   "cell_type": "code",
   "execution_count": 67,
   "metadata": {},
   "outputs": [
    {
     "data": {
      "text/plain": [
       "array([58.06247333])"
      ]
     },
     "execution_count": 67,
     "metadata": {},
     "output_type": "execute_result"
    }
   ],
   "source": [
    "X_2=sm.add_constant(X_2)\n",
    "y_pred = sm.OLS(y,X_2).fit().predict([1,60,60**2]) #lo que está dentro del arreglo es lo que multiplica a las betas, incluyendo B0\n",
    "y_pred"
   ]
  },
  {
   "cell_type": "markdown",
   "metadata": {},
   "source": [
    "# ***U.S. Bancorp***"
   ]
  },
  {
   "cell_type": "code",
   "execution_count": 73,
   "metadata": {},
   "outputs": [
    {
     "name": "stdout",
     "output_type": "stream",
     "text": [
      "                             OLS Regression Results                            \n",
      "===============================================================================\n",
      "Dep. Variable:     Producto_Financiero   R-squared:                       0.373\n",
      "Model:                             OLS   Adj. R-squared:                  0.361\n",
      "Method:                  Least Squares   F-statistic:                     30.38\n",
      "Date:                 Tue, 19 Oct 2021   Prob (F-statistic):           1.18e-06\n",
      "Time:                         02:24:31   Log-Likelihood:                -178.96\n",
      "No. Observations:                   53   AIC:                             361.9\n",
      "Df Residuals:                       51   BIC:                             365.9\n",
      "Df Model:                            1                                         \n",
      "Covariance Type:             nonrobust                                         \n",
      "==============================================================================\n",
      "                 coef    std err          t      P>|t|      [0.025      0.975]\n",
      "------------------------------------------------------------------------------\n",
      "const         14.7475      2.012      7.330      0.000      10.708      18.787\n",
      "x              0.3574      0.065      5.512      0.000       0.227       0.488\n",
      "==============================================================================\n",
      "Omnibus:                        0.908   Durbin-Watson:                   1.582\n",
      "Prob(Omnibus):                  0.635   Jarque-Bera (JB):                0.843\n",
      "Skew:                           0.029   Prob(JB):                        0.656\n",
      "Kurtosis:                       2.385   Cond. No.                         63.0\n",
      "==============================================================================\n",
      "\n",
      "Notes:\n",
      "[1] Standard Errors assume that the covariance matrix of the errors is correctly specified.\n"
     ]
    }
   ],
   "source": [
    "#Fit model\n",
    "y=Bancorp1['Producto_Financiero']\n",
    "x=Bancorp1['Numeros']\n",
    "d = {\"x\": x}\n",
    "X=pd.DataFrame(d)\n",
    "model1=build_model(X,y)"
   ]
  },
  {
   "cell_type": "markdown",
   "metadata": {},
   "source": [
    "- Tiene un ajuste R cuadrado de 0.373, por lo que el ajuste de los datos al modelo lineal es deficiente, por lo que graficar este modelo da como resultado la recta estimada rodeada de valores dispersos."
   ]
  },
  {
   "cell_type": "markdown",
   "metadata": {},
   "source": [
    "- Procedemos a realizar el modelo lineal cuadrático."
   ]
  },
  {
   "cell_type": "code",
   "execution_count": 75,
   "metadata": {},
   "outputs": [
    {
     "name": "stdout",
     "output_type": "stream",
     "text": [
      "                             OLS Regression Results                            \n",
      "===============================================================================\n",
      "Dep. Variable:     Producto_Financiero   R-squared:                       0.954\n",
      "Model:                             OLS   Adj. R-squared:                  0.953\n",
      "Method:                  Least Squares   F-statistic:                     524.0\n",
      "Date:                 Tue, 19 Oct 2021   Prob (F-statistic):           2.88e-34\n",
      "Time:                         02:25:31   Log-Likelihood:                -109.48\n",
      "No. Observations:                   53   AIC:                             225.0\n",
      "Df Residuals:                       50   BIC:                             230.9\n",
      "Df Model:                            2                                         \n",
      "Covariance Type:             nonrobust                                         \n",
      "==============================================================================\n",
      "                 coef    std err          t      P>|t|      [0.025      0.975]\n",
      "------------------------------------------------------------------------------\n",
      "const         10.6443      0.571     18.630      0.000       9.497      11.792\n",
      "x              0.0486      0.021      2.263      0.028       0.005       0.092\n",
      "x_2            0.0184      0.001     25.260      0.000       0.017       0.020\n",
      "==============================================================================\n",
      "Omnibus:                       18.834   Durbin-Watson:                   1.525\n",
      "Prob(Omnibus):                  0.000   Jarque-Bera (JB):               23.972\n",
      "Skew:                          -1.352   Prob(JB):                     6.23e-06\n",
      "Kurtosis:                       4.882   Cond. No.                     1.72e+03\n",
      "==============================================================================\n",
      "\n",
      "Notes:\n",
      "[1] Standard Errors assume that the covariance matrix of the errors is correctly specified.\n",
      "[2] The condition number is large, 1.72e+03. This might indicate that there are\n",
      "strong multicollinearity or other numerical problems.\n"
     ]
    }
   ],
   "source": [
    "x_2=Bancorp1['Producto_Financiero']**2\n",
    "d2 = {\"x\":x, \"x_2\":x_2}\n",
    "X_2=pd.DataFrame(d2)\n",
    "mod3=build_model(X_2,y)"
   ]
  },
  {
   "cell_type": "markdown",
   "metadata": {},
   "source": [
    "- Hay un ajuste R cuadrado de 0.954, por lo que los datos tienen un buen ajuste al modelo cuadrático.El p-valor de esta regresión es de 2.88e-34, por lo que es menor a un nivel de significancia del 5% (p-valor < alpha), por lo que los datos se distribuyen de forma significativa."
   ]
  },
  {
   "cell_type": "code",
   "execution_count": 76,
   "metadata": {},
   "outputs": [
    {
     "data": {
      "text/plain": [
       "[<matplotlib.lines.Line2D at 0x27f96e63370>]"
      ]
     },
     "execution_count": 76,
     "metadata": {},
     "output_type": "execute_result"
    },
    {
     "data": {
      "image/png": "[encoded data removed]",
      "text/plain": [
       "<Figure size 432x288 with 1 Axes>"
      ]
     },
     "metadata": {
      "needs_background": "light"
     },
     "output_type": "display_data"
    }
   ],
   "source": [
    "plt.plot(x, y, 'o')\n",
    "a,b,c = np.polyfit(x, y, 2)\n",
    "plt.plot(x, a*x*x +b*x + c)"
   ]
  },
  {
   "cell_type": "markdown",
   "metadata": {},
   "source": [
    "- Procedemos a realizar la predicción:"
   ]
  },
  {
   "cell_type": "code",
   "execution_count": 77,
   "metadata": {},
   "outputs": [
    {
     "data": {
      "text/plain": [
       "array([79.88390345])"
      ]
     },
     "execution_count": 77,
     "metadata": {},
     "output_type": "execute_result"
    }
   ],
   "source": [
    "X_2=sm.add_constant(X_2)\n",
    "y_pred = sm.OLS(y,X_2).fit().predict([1,60,60**2]) #lo que está dentro del arreglo es lo que multiplica a las betas, incluyendo B0\n",
    "y_pred"
   ]
  },
  {
   "cell_type": "markdown",
   "metadata": {},
   "source": [
    "# Conclusión\n",
    "\n",
    "Haciendo ajustes y procedimientos a nuestra base de datos, la técnica de Regresión Lineal Simple nos ayudó analizar la tendencia de los clientes sastifechos en los 5 bancos más grandes de USA (los cuales se obtuvieron de una pequeña investigación fuera de nuestro estudio), y hacer nuestra predicción de la cantidad de clientes satisfechos dentro de 6 meses, los cuales fueron:\n",
    "\n",
    "- **Citi Group:** 59 clientes\n",
    "- **JP Morgan:** 63 clientes\n",
    "- **Wells Fargo:** 74 clientes\n",
    "- **US Bancorp:** 80 clientes\n",
    "- **Bank of America:** 84 clientes\n",
    "\n",
    "Por lo que el Banco \"Bank of America\" es el mejor con mayor estimación de clientes satisfechos. Y de estos bancos, el estado con mayor número de quejas fue California; Recordemos que en nuestro estudio anterior, California fue el estado con mayor quejas y mayor satisfacción al cliente.\n",
    "\n",
    "Las métricas de evaluación usadas en esta técnica son el R cuadrada, ya que nos proporción el ajuste de los datos al modelo; también se usó el p-valor (*Prob (F-statistic)*) para determinar la significancia de los datos al modelo, y en este caso no se ocupó calcular el VIF, ya que la base de datos de cada banco solo cuenta con una sola variable, de caso contrario, si se hubiese necesitado.\n",
    "\n",
    "- Como trabajo futuro, se puede emplear en la vida real, un app en la que se pueda actualizar la base de datos cada fin de año, para consultar que banco conviene escoger respecto a la cantidad de quejas, del estado de donde vive, y de la satisfacción del cliente de los productos financieros registrados en la base de datos que necesite el consumidor, para lograr a tomar una mejor decisión."
   ]
  }
 ],
 "metadata": {
  "interpreter": {
   "hash": "f5bd28ee32a81f75b587c4a5c9ba5abfdf032b3105de37173de2ab9e920c5085"
  },
  "kernelspec": {
   "display_name": "Python 3.8.5 64-bit",
   "name": "python3"
  },
  "language_info": {
   "codemirror_mode": {
    "name": "ipython",
    "version": 3
   },
   "file_extension": ".py",
   "mimetype": "text/x-python",
   "name": "python",
   "nbconvert_exporter": "python",
   "pygments_lexer": "ipython3",
   "version": "3.8.5"
  },
  "orig_nbformat": 4
 },
 "nbformat": 4,
 "nbformat_minor": 2
}
