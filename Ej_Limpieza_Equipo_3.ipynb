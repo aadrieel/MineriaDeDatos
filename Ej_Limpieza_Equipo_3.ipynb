{
 "metadata": {
  "language_info": {
   "codemirror_mode": {
    "name": "ipython",
    "version": 3
   },
   "file_extension": ".py",
   "mimetype": "text/x-python",
   "name": "python",
   "nbconvert_exporter": "python",
   "pygments_lexer": "ipython3",
   "version": "3.8.5"
  },
  "orig_nbformat": 4,
  "kernelspec": {
   "name": "python3",
   "display_name": "Python 3.8.5 64-bit"
  },
  "interpreter": {
   "hash": "f5bd28ee32a81f75b587c4a5c9ba5abfdf032b3105de37173de2ab9e920c5085"
  }
 },
 "nbformat": 4,
 "nbformat_minor": 2,
 "cells": [
  {
   "cell_type": "code",
   "execution_count": 1,
   "metadata": {},
   "outputs": [
    {
     "output_type": "execute_result",
     "data": {
      "text/plain": [
       "                                        Aplicación      Categoría  Rating  \\\n",
       "234  TurboScan: scan documents and receipts in PDF       BUSINESS     4.7   \n",
       "235                 Tiny Scanner Pro: PDF Doc Scan       BUSINESS     4.8   \n",
       "290  TurboScan: scan documents and receipts in PDF       BUSINESS     4.7   \n",
       "291                 Tiny Scanner Pro: PDF Doc Scan       BUSINESS     4.8   \n",
       "427                             Puffin Browser Pro  COMMUNICATION     4.0   \n",
       "\n",
       "    Cantidad de reseñas    Tamaño de la app Cantidad de instalaciones  Tipo  \\\n",
       "234               11442                6.8M                  100,000+  Paid   \n",
       "235               10295                 39M                  100,000+  Paid   \n",
       "290               11442                6.8M                  100,000+  Paid   \n",
       "291               10295                 39M                  100,000+  Paid   \n",
       "427               18247  Varies with device                  100,000+  Paid   \n",
       "\n",
       "    Precio  Género de app Última actualización  \n",
       "234  $4.99       Business       March 25, 2018  \n",
       "235  $4.99       Business       April 11, 2017  \n",
       "290  $4.99       Business       March 25, 2018  \n",
       "291  $4.99       Business       April 11, 2017  \n",
       "427  $3.99  Communication         July 5, 2018  "
      ],
      "text/html": "<div>\n<style scoped>\n    .dataframe tbody tr th:only-of-type {\n        vertical-align: middle;\n    }\n\n    .dataframe tbody tr th {\n        vertical-align: top;\n    }\n\n    .dataframe thead th {\n        text-align: right;\n    }\n</style>\n<table border=\"1\" class=\"dataframe\">\n  <thead>\n    <tr style=\"text-align: right;\">\n      <th></th>\n      <th>Aplicación</th>\n      <th>Categoría</th>\n      <th>Rating</th>\n      <th>Cantidad de reseñas</th>\n      <th>Tamaño de la app</th>\n      <th>Cantidad de instalaciones</th>\n      <th>Tipo</th>\n      <th>Precio</th>\n      <th>Género de app</th>\n      <th>Última actualización</th>\n    </tr>\n  </thead>\n  <tbody>\n    <tr>\n      <th>234</th>\n      <td>TurboScan: scan documents and receipts in PDF</td>\n      <td>BUSINESS</td>\n      <td>4.7</td>\n      <td>11442</td>\n      <td>6.8M</td>\n      <td>100,000+</td>\n      <td>Paid</td>\n      <td>$4.99</td>\n      <td>Business</td>\n      <td>March 25, 2018</td>\n    </tr>\n    <tr>\n      <th>235</th>\n      <td>Tiny Scanner Pro: PDF Doc Scan</td>\n      <td>BUSINESS</td>\n      <td>4.8</td>\n      <td>10295</td>\n      <td>39M</td>\n      <td>100,000+</td>\n      <td>Paid</td>\n      <td>$4.99</td>\n      <td>Business</td>\n      <td>April 11, 2017</td>\n    </tr>\n    <tr>\n      <th>290</th>\n      <td>TurboScan: scan documents and receipts in PDF</td>\n      <td>BUSINESS</td>\n      <td>4.7</td>\n      <td>11442</td>\n      <td>6.8M</td>\n      <td>100,000+</td>\n      <td>Paid</td>\n      <td>$4.99</td>\n      <td>Business</td>\n      <td>March 25, 2018</td>\n    </tr>\n    <tr>\n      <th>291</th>\n      <td>Tiny Scanner Pro: PDF Doc Scan</td>\n      <td>BUSINESS</td>\n      <td>4.8</td>\n      <td>10295</td>\n      <td>39M</td>\n      <td>100,000+</td>\n      <td>Paid</td>\n      <td>$4.99</td>\n      <td>Business</td>\n      <td>April 11, 2017</td>\n    </tr>\n    <tr>\n      <th>427</th>\n      <td>Puffin Browser Pro</td>\n      <td>COMMUNICATION</td>\n      <td>4.0</td>\n      <td>18247</td>\n      <td>Varies with device</td>\n      <td>100,000+</td>\n      <td>Paid</td>\n      <td>$3.99</td>\n      <td>Communication</td>\n      <td>July 5, 2018</td>\n    </tr>\n  </tbody>\n</table>\n</div>"
     },
     "metadata": {},
     "execution_count": 1
    }
   ],
   "source": [
    "'''\n",
    "Equipo: 3\n",
    "Grupo: 002, Miércoles\n",
    "Integrantes: \n",
    "1941502 Vidal Mosqueda Cristina\n",
    "1811901 García Salazar Orlando\n",
    "1644680 Macías Cortés Isaí Adriel\n",
    "1849522 Mora Martínez Gerardo\n",
    "\n",
    "Base de datos\n",
    "Título: \"Google Playstore Apps\"\n",
    "Url: https://www.kaggle.com/lava18/google-play-store-apps\n",
    "\n",
    "'''\n",
    "import pandas as pd\n",
    "\n",
    "#Lectura de archivo\n",
    "df = pd.read_csv(\"googleplaystore.csv\",encoding='utf8')\n",
    "#df.head()#Imprimimos los primeros 5 registros para checar si se necesita eliminar columnas\n",
    "\n",
    "#Eliminar columnas innecesarias\n",
    "aux = df.drop(['Current Ver','Android Ver','Content Rating'],axis = 1)\n",
    "\n",
    "#Checamos columnas nulas\n",
    "#print(aux.isnull().any())\n",
    "\n",
    "#Quitamos las filas con los nulos, que en este caso son pocos\n",
    "baselimp=aux.dropna()\n",
    "#print(baselimp.isnull().any())#Verificamos si no hay nulos\n",
    "\n",
    "#Cambiamos los nombres de las columnas\n",
    "baselimp = baselimp.rename(columns ={'App':'Aplicación'})\n",
    "baselimp = baselimp.rename(columns ={'Category':'Categoría'})\n",
    "baselimp = baselimp.rename(columns ={'Reviews':'Cantidad de reseñas'})\n",
    "baselimp = baselimp.rename(columns ={'Size':'Tamaño de la app'})\n",
    "baselimp = baselimp.rename(columns ={'Installs':'Cantidad de instalaciones'})\n",
    "baselimp = baselimp.rename(columns ={'Type':'Tipo'})\n",
    "baselimp = baselimp.rename(columns ={'Price':'Precio'})\n",
    "baselimp = baselimp.rename(columns ={'Genres':'Género de app'})\n",
    "baselimp = baselimp.rename(columns ={'Last Updated':'Última actualización'})\n",
    "\n",
    "#Agrupamos los registros por los tipos de registros\n",
    "clase_1 = baselimp[baselimp['Tipo']=='Free']\n",
    "clase_2 = baselimp[baselimp['Tipo']=='Paid']\n",
    "#clase_2.head()#Checamos que las agrupaciones sean las correctas\n",
    "\n",
    "#Exportamos las agrupaciones en csv\n",
    "clase_1.to_csv('Free.csv', index=False)\n",
    "clase_2.to_csv('Paid.csv', index=False)"
   ]
  },
  {
   "cell_type": "code",
   "execution_count": null,
   "metadata": {},
   "outputs": [],
   "source": []
  }
 ]
}