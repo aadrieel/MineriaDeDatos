{
 "cells": [
  {
   "cell_type": "markdown",
   "metadata": {},
   "source": [
    "# Equipo: 3\n",
    "# Grupo: 002, Miércoles\n",
    "## Integrantes: \n",
    "- 1941502 Vidal Mosqueda Cristina\n",
    "- 1811901 García Salazar Orlando\n",
    "- 1644680 Macías Cortés Isaí Adriel\n",
    "- 1849522 Mora Martínez Gerardo\n",
    "\n",
    "## Base de datos principal\n",
    "### **US Consumer Finance Complaints**\n",
    "\n",
    "- **Url:** https://www.kaggle.com/cfpb/us-consumer-finance-complaints\n",
    "\n",
    "## Introducción: \n",
    "Los servicios bancarios suelen presentar fallas, por lo que a consecuencia de esto, los clientes presentan quejas hacia los bancos. Nuestra base de datos se basa en las quejas que presentan los consumidores a los bancos estadounidenses.\n",
    "\n",
    "## Descripción de los datos: \n",
    "Son reclamos hechos por los clientes, las cuales, son registradas por la CFPB (Consumer Financial Protection Bureau) que se introducen a una base de datos que generan una matriz de todas las quejas financieras que se hicieron en Estados Unidos de América.\n",
    "\n",
    "## Descripción de las columnas:\n",
    "De nuestra limpieza de la base de datos, las columnas que la conforma son: \n",
    "- **date_received:** Fecha en la que la queja fue enviada por el cliente (**Tipo de dato:** Fecha).\n",
    "- **product:** El producto financiero referente a la queja que solicitó el cliente (**Tipo de dato:** Cadena de texto).\n",
    "- **issue:** El título general establecido para identificar la queja del cliente (**Tipo de dato:** Cadena de texto).\n",
    "- **company:** El banco en el que el cliente solicitó el servicio (**Tipo de dato:** Cadena de texto).\n",
    "- **state:** Estado en el que esta localizado el banco (**Tipo de dato:** Cadena de texto).\n",
    "- **submitted_via:** Medio por el cual la queja fue enviada (**Tipo de dato:** Cadena de texto).\n",
    "- **date_sent_to_company:** Fecha en la que se recibió al banco el reclamo del cliente (**Tipo de dato:** Fecha).\n",
    "- **company_response_to_consumer:** Respuesta del banco hacia el consumidor (**Tipo de dato:** Cadena de texto).\n",
    "- **timely_response:** Especifica si la queja fue contestada en el tiempo establecido del banco (**Tipo de dato:** Cadena de texto).\n",
    "- **consumer_disputed:** Especifica si el cliente quedó satisfecho con la solución(**Tipo de dato:** Cadena de texto).\n",
    "\n",
    "## Justificación del uso de datos:\n",
    "Nos llamó la atención los tipos de quejas y los productos financieros a los que se estaban refiriendo.Creemos que con estos datos podemos identificar el mejor estado con mayor sastifacción al cliente respecto al resultado de su queja.\n",
    "\n",
    "## Objetivos Principales:\n",
    "- Encontrar los 5 bancos más grandes de USA\n",
    "- Encontrar el estado con mayor quejas en los bancos más grandes de USA.\n",
    "- Del estado con mayor quejas, encontrar dentro de los 5 bancos más grandes, cuál tendrá mayor predicción de clientes satisfechos dentro de 6 meses.\n",
    "\n",
    "\n",
    "## Programación:\n",
    "- **Título:** \"US Consumer Finance Complaints\"\n",
    "- **Url:** https://www.kaggle.com/cfpb/us-consumer-finance-complaints"
   ]
  },
  {
   "cell_type": "code",
   "execution_count": 47,
   "metadata": {},
   "outputs": [
    {
     "name": "stderr",
     "output_type": "stream",
     "text": [
      "C:\\Users\\LENOVO\\AppData\\Local\\Programs\\Python\\Python38\\lib\\site-packages\\IPython\\core\\interactiveshell.py:3441: DtypeWarning: Columns (5,11) have mixed types.Specify dtype option on import or set low_memory=False.\n",
      "  exec(code_obj, self.user_global_ns, self.user_ns)\n"
     ]
    },
    {
     "data": {
      "text/html": [
       "<div>\n",
       "<style scoped>\n",
       "    .dataframe tbody tr th:only-of-type {\n",
       "        vertical-align: middle;\n",
       "    }\n",
       "\n",
       "    .dataframe tbody tr th {\n",
       "        vertical-align: top;\n",
       "    }\n",
       "\n",
       "    .dataframe thead th {\n",
       "        text-align: right;\n",
       "    }\n",
       "</style>\n",
       "<table border=\"1\" class=\"dataframe\">\n",
       "  <thead>\n",
       "    <tr style=\"text-align: right;\">\n",
       "      <th></th>\n",
       "      <th>product</th>\n",
       "    </tr>\n",
       "    <tr>\n",
       "      <th>date_sent_to_company</th>\n",
       "      <th></th>\n",
       "    </tr>\n",
       "  </thead>\n",
       "  <tbody>\n",
       "    <tr>\n",
       "      <th>201112</th>\n",
       "      <td>2343</td>\n",
       "    </tr>\n",
       "    <tr>\n",
       "      <th>201201</th>\n",
       "      <td>2709</td>\n",
       "    </tr>\n",
       "    <tr>\n",
       "      <th>201202</th>\n",
       "      <td>3236</td>\n",
       "    </tr>\n",
       "    <tr>\n",
       "      <th>201203</th>\n",
       "      <td>6064</td>\n",
       "    </tr>\n",
       "    <tr>\n",
       "      <th>201204</th>\n",
       "      <td>5669</td>\n",
       "    </tr>\n",
       "    <tr>\n",
       "      <th>201205</th>\n",
       "      <td>6594</td>\n",
       "    </tr>\n",
       "    <tr>\n",
       "      <th>201206</th>\n",
       "      <td>8409</td>\n",
       "    </tr>\n",
       "    <tr>\n",
       "      <th>201207</th>\n",
       "      <td>6694</td>\n",
       "    </tr>\n",
       "    <tr>\n",
       "      <th>201208</th>\n",
       "      <td>7536</td>\n",
       "    </tr>\n",
       "    <tr>\n",
       "      <th>201209</th>\n",
       "      <td>5773</td>\n",
       "    </tr>\n",
       "    <tr>\n",
       "      <th>201210</th>\n",
       "      <td>6733</td>\n",
       "    </tr>\n",
       "    <tr>\n",
       "      <th>201211</th>\n",
       "      <td>6295</td>\n",
       "    </tr>\n",
       "    <tr>\n",
       "      <th>201212</th>\n",
       "      <td>6049</td>\n",
       "    </tr>\n",
       "    <tr>\n",
       "      <th>201301</th>\n",
       "      <td>9063</td>\n",
       "    </tr>\n",
       "    <tr>\n",
       "      <th>201302</th>\n",
       "      <td>7636</td>\n",
       "    </tr>\n",
       "    <tr>\n",
       "      <th>201303</th>\n",
       "      <td>8340</td>\n",
       "    </tr>\n",
       "    <tr>\n",
       "      <th>201304</th>\n",
       "      <td>8815</td>\n",
       "    </tr>\n",
       "    <tr>\n",
       "      <th>201305</th>\n",
       "      <td>8129</td>\n",
       "    </tr>\n",
       "    <tr>\n",
       "      <th>201306</th>\n",
       "      <td>7766</td>\n",
       "    </tr>\n",
       "    <tr>\n",
       "      <th>201307</th>\n",
       "      <td>9430</td>\n",
       "    </tr>\n",
       "    <tr>\n",
       "      <th>201308</th>\n",
       "      <td>10400</td>\n",
       "    </tr>\n",
       "    <tr>\n",
       "      <th>201309</th>\n",
       "      <td>9758</td>\n",
       "    </tr>\n",
       "    <tr>\n",
       "      <th>201310</th>\n",
       "      <td>9714</td>\n",
       "    </tr>\n",
       "    <tr>\n",
       "      <th>201311</th>\n",
       "      <td>9350</td>\n",
       "    </tr>\n",
       "    <tr>\n",
       "      <th>201312</th>\n",
       "      <td>9066</td>\n",
       "    </tr>\n",
       "    <tr>\n",
       "      <th>201401</th>\n",
       "      <td>12177</td>\n",
       "    </tr>\n",
       "    <tr>\n",
       "      <th>201402</th>\n",
       "      <td>13670</td>\n",
       "    </tr>\n",
       "    <tr>\n",
       "      <th>201403</th>\n",
       "      <td>13543</td>\n",
       "    </tr>\n",
       "    <tr>\n",
       "      <th>201404</th>\n",
       "      <td>13790</td>\n",
       "    </tr>\n",
       "    <tr>\n",
       "      <th>201405</th>\n",
       "      <td>12251</td>\n",
       "    </tr>\n",
       "    <tr>\n",
       "      <th>201406</th>\n",
       "      <td>12715</td>\n",
       "    </tr>\n",
       "    <tr>\n",
       "      <th>201407</th>\n",
       "      <td>13568</td>\n",
       "    </tr>\n",
       "    <tr>\n",
       "      <th>201408</th>\n",
       "      <td>12822</td>\n",
       "    </tr>\n",
       "    <tr>\n",
       "      <th>201409</th>\n",
       "      <td>12096</td>\n",
       "    </tr>\n",
       "    <tr>\n",
       "      <th>201410</th>\n",
       "      <td>13423</td>\n",
       "    </tr>\n",
       "    <tr>\n",
       "      <th>201411</th>\n",
       "      <td>11227</td>\n",
       "    </tr>\n",
       "    <tr>\n",
       "      <th>201412</th>\n",
       "      <td>12286</td>\n",
       "    </tr>\n",
       "    <tr>\n",
       "      <th>201501</th>\n",
       "      <td>12457</td>\n",
       "    </tr>\n",
       "    <tr>\n",
       "      <th>201502</th>\n",
       "      <td>12419</td>\n",
       "    </tr>\n",
       "    <tr>\n",
       "      <th>201503</th>\n",
       "      <td>14648</td>\n",
       "    </tr>\n",
       "    <tr>\n",
       "      <th>201504</th>\n",
       "      <td>13865</td>\n",
       "    </tr>\n",
       "    <tr>\n",
       "      <th>201505</th>\n",
       "      <td>13814</td>\n",
       "    </tr>\n",
       "    <tr>\n",
       "      <th>201506</th>\n",
       "      <td>14580</td>\n",
       "    </tr>\n",
       "    <tr>\n",
       "      <th>201507</th>\n",
       "      <td>15930</td>\n",
       "    </tr>\n",
       "    <tr>\n",
       "      <th>201508</th>\n",
       "      <td>15021</td>\n",
       "    </tr>\n",
       "    <tr>\n",
       "      <th>201509</th>\n",
       "      <td>15243</td>\n",
       "    </tr>\n",
       "    <tr>\n",
       "      <th>201510</th>\n",
       "      <td>14303</td>\n",
       "    </tr>\n",
       "    <tr>\n",
       "      <th>201511</th>\n",
       "      <td>13374</td>\n",
       "    </tr>\n",
       "    <tr>\n",
       "      <th>201512</th>\n",
       "      <td>13183</td>\n",
       "    </tr>\n",
       "    <tr>\n",
       "      <th>201601</th>\n",
       "      <td>13432</td>\n",
       "    </tr>\n",
       "    <tr>\n",
       "      <th>201602</th>\n",
       "      <td>14528</td>\n",
       "    </tr>\n",
       "    <tr>\n",
       "      <th>201603</th>\n",
       "      <td>16166</td>\n",
       "    </tr>\n",
       "    <tr>\n",
       "      <th>201604</th>\n",
       "      <td>7855</td>\n",
       "    </tr>\n",
       "  </tbody>\n",
       "</table>\n",
       "</div>"
      ],
      "text/plain": [
       "                      product\n",
       "date_sent_to_company         \n",
       "201112                   2343\n",
       "201201                   2709\n",
       "201202                   3236\n",
       "201203                   6064\n",
       "201204                   5669\n",
       "201205                   6594\n",
       "201206                   8409\n",
       "201207                   6694\n",
       "201208                   7536\n",
       "201209                   5773\n",
       "201210                   6733\n",
       "201211                   6295\n",
       "201212                   6049\n",
       "201301                   9063\n",
       "201302                   7636\n",
       "201303                   8340\n",
       "201304                   8815\n",
       "201305                   8129\n",
       "201306                   7766\n",
       "201307                   9430\n",
       "201308                  10400\n",
       "201309                   9758\n",
       "201310                   9714\n",
       "201311                   9350\n",
       "201312                   9066\n",
       "201401                  12177\n",
       "201402                  13670\n",
       "201403                  13543\n",
       "201404                  13790\n",
       "201405                  12251\n",
       "201406                  12715\n",
       "201407                  13568\n",
       "201408                  12822\n",
       "201409                  12096\n",
       "201410                  13423\n",
       "201411                  11227\n",
       "201412                  12286\n",
       "201501                  12457\n",
       "201502                  12419\n",
       "201503                  14648\n",
       "201504                  13865\n",
       "201505                  13814\n",
       "201506                  14580\n",
       "201507                  15930\n",
       "201508                  15021\n",
       "201509                  15243\n",
       "201510                  14303\n",
       "201511                  13374\n",
       "201512                  13183\n",
       "201601                  13432\n",
       "201602                  14528\n",
       "201603                  16166\n",
       "201604                   7855"
      ]
     },
     "execution_count": 47,
     "metadata": {},
     "output_type": "execute_result"
    }
   ],
   "source": [
    "import pandas as pd\n",
    "import numpy as np\n",
    "import seaborn as sns\n",
    "import matplotlib.pyplot as plt\n",
    "from datetime import datetime, timedelta\n",
    "#Lectura de archivo\n",
    "df = pd.read_csv(\"consumer_complaints.csv\",encoding='utf8')\n",
    "#Se corre una vez estas 2 líneas para convertir de tipo objeto a fecha\n",
    "df['date_sent_to_company'] = df['date_sent_to_company'].apply(lambda _ : datetime.strptime(_,\"%m/%d/%Y\"))\n",
    "df=df.groupby(df['date_sent_to_company'].dt.strftime(\"%Y%m\")).count()\n",
    "df=df.drop(['date_received','sub_product','issue','sub_issue','consumer_complaint_narrative','company_public_response','company','state','zipcode','tags','consumer_consent_provided','submitted_via','company_response_to_consumer','timely_response','consumer_disputed?','complaint_id','date_sent_to_company'],axis = 1)\n",
    "df.to_csv('Regresión.csv', index = False)\n",
    "df"
   ]
  },
  {
   "cell_type": "code",
   "execution_count": 48,
   "metadata": {},
   "outputs": [],
   "source": [
    "import pandas as pd\n",
    "import numpy as np\n",
    "import seaborn as sns\n",
    "import matplotlib.pyplot as plt\n",
    "from datetime import datetime, timedelta\n",
    "#Lectura de archivo\n",
    "df = pd.read_csv(\"Base_Limpia_Quejas_Financieras.csv\",encoding='utf8')\n",
    "\n",
    "df = df.drop(df[df['Diminutivo_de_Estado_de_USA']==\"AA\"].index)\n",
    "df = df.drop(df[df['Diminutivo_de_Estado_de_USA']==\"PW\"].index)\n",
    "df = df.drop(df[df['Diminutivo_de_Estado_de_USA']==\"AS\"].index)\n",
    "df = df.drop(df[df['Diminutivo_de_Estado_de_USA']==\"MP\"].index)\n",
    "df = df.drop(df[df['Diminutivo_de_Estado_de_USA']==\"MH\"].index)\n",
    "df = df.drop(df[df['Diminutivo_de_Estado_de_USA']==\"FM\"].index)\n",
    "df = df.drop(df[df['Diminutivo_de_Estado_de_USA']==\"GU\"].index)\n",
    "df = df.drop(df[df['Diminutivo_de_Estado_de_USA']==\"VI\"].index)\n",
    "df = df.drop(df[df['Diminutivo_de_Estado_de_USA']==\"AP\"].index)\n",
    "df = df.drop(df[df['Diminutivo_de_Estado_de_USA']==\"AE\"].index)\n",
    "\n",
    "Jpmorgan = df.drop(df[df['Banco']!='JPMorgan Chase & Co.'].index)\n",
    "Banka = df.drop(df[df['Banco']!='Bank of America'].index)\n",
    "Wells = df.drop(df[df['Banco']!='Wells Fargo & Company'].index)\n",
    "Citi = df.drop(df[df['Banco']!='Citibank'].index)\n",
    "Bancorp = df.drop(df[df['Banco']!='U.S. Bancorp'].index)"
   ]
  },
  {
   "cell_type": "code",
   "execution_count": 49,
   "metadata": {},
   "outputs": [],
   "source": [
    "Jpmorgan=Jpmorgan.groupby(['Diminutivo_de_Estado_de_USA']).count()\n",
    "Jpmorgan=Jpmorgan.drop(['Fecha_Enviada_por_el_Cliente','Queja','Banco','Medio_de_Envío','Fecha_Recibida_al_Banco','company_response_to_consumer','¿Se_evaluó_a_tiempo_la_respuesta_de_la_queja?','¿Cliente_insastifecho_a_la_solución?'],axis = 1)\n",
    "\n",
    "Banka=Banka.groupby(['Diminutivo_de_Estado_de_USA']).count()\n",
    "Banka=Banka.drop(['Fecha_Enviada_por_el_Cliente','Queja','Banco','Medio_de_Envío','Fecha_Recibida_al_Banco','company_response_to_consumer','¿Se_evaluó_a_tiempo_la_respuesta_de_la_queja?','¿Cliente_insastifecho_a_la_solución?'],axis = 1)\n",
    "\n",
    "Wells=Wells.groupby(['Diminutivo_de_Estado_de_USA']).count()\n",
    "Wells=Wells.drop(['Fecha_Enviada_por_el_Cliente','Queja','Banco','Medio_de_Envío','Fecha_Recibida_al_Banco','company_response_to_consumer','¿Se_evaluó_a_tiempo_la_respuesta_de_la_queja?','¿Cliente_insastifecho_a_la_solución?'],axis = 1)\n",
    "\n",
    "Citi=Citi.groupby(['Diminutivo_de_Estado_de_USA']).count()\n",
    "Citi=Citi.drop(['Fecha_Enviada_por_el_Cliente','Queja','Banco','Medio_de_Envío','Fecha_Recibida_al_Banco','company_response_to_consumer','¿Se_evaluó_a_tiempo_la_respuesta_de_la_queja?','¿Cliente_insastifecho_a_la_solución?'],axis = 1)\n",
    "\n",
    "Bancorp=Bancorp.groupby(['Diminutivo_de_Estado_de_USA']).count()\n",
    "Bancorp=Bancorp.drop(['Fecha_Enviada_por_el_Cliente','Queja','Banco','Medio_de_Envío','Fecha_Recibida_al_Banco','company_response_to_consumer','¿Se_evaluó_a_tiempo_la_respuesta_de_la_queja?','¿Cliente_insastifecho_a_la_solución?'],axis = 1)"
   ]
  },
  {
   "cell_type": "code",
   "execution_count": 50,
   "metadata": {},
   "outputs": [
    {
     "data": {
      "text/html": [
       "<div>\n",
       "<style scoped>\n",
       "    .dataframe tbody tr th:only-of-type {\n",
       "        vertical-align: middle;\n",
       "    }\n",
       "\n",
       "    .dataframe tbody tr th {\n",
       "        vertical-align: top;\n",
       "    }\n",
       "\n",
       "    .dataframe thead th {\n",
       "        text-align: right;\n",
       "    }\n",
       "</style>\n",
       "<table border=\"1\" class=\"dataframe\">\n",
       "  <thead>\n",
       "    <tr style=\"text-align: right;\">\n",
       "      <th></th>\n",
       "      <th>Producto_Financiero</th>\n",
       "    </tr>\n",
       "    <tr>\n",
       "      <th>Diminutivo_de_Estado_de_USA</th>\n",
       "      <th></th>\n",
       "    </tr>\n",
       "  </thead>\n",
       "  <tbody>\n",
       "    <tr>\n",
       "      <th>CA</th>\n",
       "      <td>6031</td>\n",
       "    </tr>\n",
       "  </tbody>\n",
       "</table>\n",
       "</div>"
      ],
      "text/plain": [
       "                             Producto_Financiero\n",
       "Diminutivo_de_Estado_de_USA                     \n",
       "CA                                          6031"
      ]
     },
     "execution_count": 50,
     "metadata": {},
     "output_type": "execute_result"
    }
   ],
   "source": [
    "Jpmorgan.sort_values(by=\"Producto_Financiero\",ascending=False).head(1)"
   ]
  },
  {
   "cell_type": "code",
   "execution_count": 51,
   "metadata": {},
   "outputs": [
    {
     "data": {
      "text/html": [
       "<div>\n",
       "<style scoped>\n",
       "    .dataframe tbody tr th:only-of-type {\n",
       "        vertical-align: middle;\n",
       "    }\n",
       "\n",
       "    .dataframe tbody tr th {\n",
       "        vertical-align: top;\n",
       "    }\n",
       "\n",
       "    .dataframe thead th {\n",
       "        text-align: right;\n",
       "    }\n",
       "</style>\n",
       "<table border=\"1\" class=\"dataframe\">\n",
       "  <thead>\n",
       "    <tr style=\"text-align: right;\">\n",
       "      <th></th>\n",
       "      <th>Producto_Financiero</th>\n",
       "    </tr>\n",
       "    <tr>\n",
       "      <th>Diminutivo_de_Estado_de_USA</th>\n",
       "      <th></th>\n",
       "    </tr>\n",
       "  </thead>\n",
       "  <tbody>\n",
       "    <tr>\n",
       "      <th>CA</th>\n",
       "      <td>10740</td>\n",
       "    </tr>\n",
       "  </tbody>\n",
       "</table>\n",
       "</div>"
      ],
      "text/plain": [
       "                             Producto_Financiero\n",
       "Diminutivo_de_Estado_de_USA                     \n",
       "CA                                         10740"
      ]
     },
     "execution_count": 51,
     "metadata": {},
     "output_type": "execute_result"
    }
   ],
   "source": [
    "Banka.sort_values(by=\"Producto_Financiero\",ascending=False).head(1)"
   ]
  },
  {
   "cell_type": "code",
   "execution_count": 52,
   "metadata": {},
   "outputs": [
    {
     "data": {
      "text/html": [
       "<div>\n",
       "<style scoped>\n",
       "    .dataframe tbody tr th:only-of-type {\n",
       "        vertical-align: middle;\n",
       "    }\n",
       "\n",
       "    .dataframe tbody tr th {\n",
       "        vertical-align: top;\n",
       "    }\n",
       "\n",
       "    .dataframe thead th {\n",
       "        text-align: right;\n",
       "    }\n",
       "</style>\n",
       "<table border=\"1\" class=\"dataframe\">\n",
       "  <thead>\n",
       "    <tr style=\"text-align: right;\">\n",
       "      <th></th>\n",
       "      <th>Producto_Financiero</th>\n",
       "    </tr>\n",
       "    <tr>\n",
       "      <th>Diminutivo_de_Estado_de_USA</th>\n",
       "      <th></th>\n",
       "    </tr>\n",
       "  </thead>\n",
       "  <tbody>\n",
       "    <tr>\n",
       "      <th>CA</th>\n",
       "      <td>8084</td>\n",
       "    </tr>\n",
       "  </tbody>\n",
       "</table>\n",
       "</div>"
      ],
      "text/plain": [
       "                             Producto_Financiero\n",
       "Diminutivo_de_Estado_de_USA                     \n",
       "CA                                          8084"
      ]
     },
     "execution_count": 52,
     "metadata": {},
     "output_type": "execute_result"
    }
   ],
   "source": [
    "Wells.sort_values(by=\"Producto_Financiero\",ascending=False).head(1)"
   ]
  },
  {
   "cell_type": "code",
   "execution_count": 53,
   "metadata": {},
   "outputs": [
    {
     "data": {
      "text/html": [
       "<div>\n",
       "<style scoped>\n",
       "    .dataframe tbody tr th:only-of-type {\n",
       "        vertical-align: middle;\n",
       "    }\n",
       "\n",
       "    .dataframe tbody tr th {\n",
       "        vertical-align: top;\n",
       "    }\n",
       "\n",
       "    .dataframe thead th {\n",
       "        text-align: right;\n",
       "    }\n",
       "</style>\n",
       "<table border=\"1\" class=\"dataframe\">\n",
       "  <thead>\n",
       "    <tr style=\"text-align: right;\">\n",
       "      <th></th>\n",
       "      <th>Producto_Financiero</th>\n",
       "    </tr>\n",
       "    <tr>\n",
       "      <th>Diminutivo_de_Estado_de_USA</th>\n",
       "      <th></th>\n",
       "    </tr>\n",
       "  </thead>\n",
       "  <tbody>\n",
       "    <tr>\n",
       "      <th>CA</th>\n",
       "      <td>3676</td>\n",
       "    </tr>\n",
       "  </tbody>\n",
       "</table>\n",
       "</div>"
      ],
      "text/plain": [
       "                             Producto_Financiero\n",
       "Diminutivo_de_Estado_de_USA                     \n",
       "CA                                          3676"
      ]
     },
     "execution_count": 53,
     "metadata": {},
     "output_type": "execute_result"
    }
   ],
   "source": [
    "Citi.sort_values(by=\"Producto_Financiero\",ascending=False).head(1)"
   ]
  },
  {
   "cell_type": "code",
   "execution_count": 54,
   "metadata": {},
   "outputs": [
    {
     "data": {
      "text/html": [
       "<div>\n",
       "<style scoped>\n",
       "    .dataframe tbody tr th:only-of-type {\n",
       "        vertical-align: middle;\n",
       "    }\n",
       "\n",
       "    .dataframe tbody tr th {\n",
       "        vertical-align: top;\n",
       "    }\n",
       "\n",
       "    .dataframe thead th {\n",
       "        text-align: right;\n",
       "    }\n",
       "</style>\n",
       "<table border=\"1\" class=\"dataframe\">\n",
       "  <thead>\n",
       "    <tr style=\"text-align: right;\">\n",
       "      <th></th>\n",
       "      <th>Producto_Financiero</th>\n",
       "    </tr>\n",
       "    <tr>\n",
       "      <th>Diminutivo_de_Estado_de_USA</th>\n",
       "      <th></th>\n",
       "    </tr>\n",
       "  </thead>\n",
       "  <tbody>\n",
       "    <tr>\n",
       "      <th>CA</th>\n",
       "      <td>1701</td>\n",
       "    </tr>\n",
       "  </tbody>\n",
       "</table>\n",
       "</div>"
      ],
      "text/plain": [
       "                             Producto_Financiero\n",
       "Diminutivo_de_Estado_de_USA                     \n",
       "CA                                          1701"
      ]
     },
     "execution_count": 54,
     "metadata": {},
     "output_type": "execute_result"
    }
   ],
   "source": [
    "Bancorp.sort_values(by=\"Producto_Financiero\",ascending=False).head(1)"
   ]
  },
  {
   "cell_type": "code",
   "execution_count": 55,
   "metadata": {},
   "outputs": [
    {
     "data": {
      "text/html": [
       "<div>\n",
       "<style scoped>\n",
       "    .dataframe tbody tr th:only-of-type {\n",
       "        vertical-align: middle;\n",
       "    }\n",
       "\n",
       "    .dataframe tbody tr th {\n",
       "        vertical-align: top;\n",
       "    }\n",
       "\n",
       "    .dataframe thead th {\n",
       "        text-align: right;\n",
       "    }\n",
       "</style>\n",
       "<table border=\"1\" class=\"dataframe\">\n",
       "  <thead>\n",
       "    <tr style=\"text-align: right;\">\n",
       "      <th></th>\n",
       "      <th>Fecha_Enviada_por_el_Cliente</th>\n",
       "      <th>Producto_Financiero</th>\n",
       "      <th>Queja</th>\n",
       "      <th>Banco</th>\n",
       "      <th>Diminutivo_de_Estado_de_USA</th>\n",
       "      <th>Medio_de_Envío</th>\n",
       "      <th>Fecha_Recibida_al_Banco</th>\n",
       "      <th>company_response_to_consumer</th>\n",
       "      <th>¿Se_evaluó_a_tiempo_la_respuesta_de_la_queja?</th>\n",
       "      <th>¿Cliente_insastifecho_a_la_solución?</th>\n",
       "    </tr>\n",
       "  </thead>\n",
       "  <tbody>\n",
       "    <tr>\n",
       "      <th>148</th>\n",
       "      <td>09/24/2013</td>\n",
       "      <td>Mortgage</td>\n",
       "      <td>Loan modification,collection,foreclosure</td>\n",
       "      <td>JPMorgan Chase &amp; Co.</td>\n",
       "      <td>CA</td>\n",
       "      <td>Web</td>\n",
       "      <td>09/25/2013</td>\n",
       "      <td>Closed with explanation</td>\n",
       "      <td>Yes</td>\n",
       "      <td>No</td>\n",
       "    </tr>\n",
       "    <tr>\n",
       "      <th>204</th>\n",
       "      <td>09/24/2013</td>\n",
       "      <td>Bank account or service</td>\n",
       "      <td>Account opening, closing, or management</td>\n",
       "      <td>JPMorgan Chase &amp; Co.</td>\n",
       "      <td>CA</td>\n",
       "      <td>Web</td>\n",
       "      <td>10/09/2013</td>\n",
       "      <td>Closed with explanation</td>\n",
       "      <td>Yes</td>\n",
       "      <td>No</td>\n",
       "    </tr>\n",
       "    <tr>\n",
       "      <th>356</th>\n",
       "      <td>09/24/2013</td>\n",
       "      <td>Mortgage</td>\n",
       "      <td>Application, originator, mortgage broker</td>\n",
       "      <td>JPMorgan Chase &amp; Co.</td>\n",
       "      <td>CA</td>\n",
       "      <td>Web</td>\n",
       "      <td>09/26/2013</td>\n",
       "      <td>Closed with monetary relief</td>\n",
       "      <td>Yes</td>\n",
       "      <td>No</td>\n",
       "    </tr>\n",
       "    <tr>\n",
       "      <th>628</th>\n",
       "      <td>09/10/2013</td>\n",
       "      <td>Mortgage</td>\n",
       "      <td>Loan modification,collection,foreclosure</td>\n",
       "      <td>JPMorgan Chase &amp; Co.</td>\n",
       "      <td>CA</td>\n",
       "      <td>Referral</td>\n",
       "      <td>09/11/2013</td>\n",
       "      <td>Closed with explanation</td>\n",
       "      <td>Yes</td>\n",
       "      <td>No</td>\n",
       "    </tr>\n",
       "    <tr>\n",
       "      <th>675</th>\n",
       "      <td>09/01/2013</td>\n",
       "      <td>Debt collection</td>\n",
       "      <td>Disclosure verification of debt</td>\n",
       "      <td>JPMorgan Chase &amp; Co.</td>\n",
       "      <td>CA</td>\n",
       "      <td>Web</td>\n",
       "      <td>08/31/2013</td>\n",
       "      <td>Closed with explanation</td>\n",
       "      <td>Yes</td>\n",
       "      <td>No</td>\n",
       "    </tr>\n",
       "    <tr>\n",
       "      <th>...</th>\n",
       "      <td>...</td>\n",
       "      <td>...</td>\n",
       "      <td>...</td>\n",
       "      <td>...</td>\n",
       "      <td>...</td>\n",
       "      <td>...</td>\n",
       "      <td>...</td>\n",
       "      <td>...</td>\n",
       "      <td>...</td>\n",
       "      <td>...</td>\n",
       "    </tr>\n",
       "    <tr>\n",
       "      <th>549651</th>\n",
       "      <td>04/04/2016</td>\n",
       "      <td>Credit card</td>\n",
       "      <td>Billing disputes</td>\n",
       "      <td>JPMorgan Chase &amp; Co.</td>\n",
       "      <td>CA</td>\n",
       "      <td>Web</td>\n",
       "      <td>04/04/2016</td>\n",
       "      <td>Closed with non-monetary relief</td>\n",
       "      <td>Yes</td>\n",
       "      <td>No</td>\n",
       "    </tr>\n",
       "    <tr>\n",
       "      <th>549965</th>\n",
       "      <td>12/10/2015</td>\n",
       "      <td>Mortgage</td>\n",
       "      <td>Loan modification,collection,foreclosure</td>\n",
       "      <td>JPMorgan Chase &amp; Co.</td>\n",
       "      <td>CA</td>\n",
       "      <td>Web</td>\n",
       "      <td>12/10/2015</td>\n",
       "      <td>Closed with explanation</td>\n",
       "      <td>Yes</td>\n",
       "      <td>No</td>\n",
       "    </tr>\n",
       "    <tr>\n",
       "      <th>550211</th>\n",
       "      <td>03/15/2016</td>\n",
       "      <td>Mortgage</td>\n",
       "      <td>Loan modification,collection,foreclosure</td>\n",
       "      <td>JPMorgan Chase &amp; Co.</td>\n",
       "      <td>CA</td>\n",
       "      <td>Referral</td>\n",
       "      <td>03/17/2016</td>\n",
       "      <td>Closed with explanation</td>\n",
       "      <td>Yes</td>\n",
       "      <td>No</td>\n",
       "    </tr>\n",
       "    <tr>\n",
       "      <th>550235</th>\n",
       "      <td>03/30/2016</td>\n",
       "      <td>Mortgage</td>\n",
       "      <td>Loan modification,collection,foreclosure</td>\n",
       "      <td>JPMorgan Chase &amp; Co.</td>\n",
       "      <td>CA</td>\n",
       "      <td>Web</td>\n",
       "      <td>04/01/2016</td>\n",
       "      <td>Closed with explanation</td>\n",
       "      <td>Yes</td>\n",
       "      <td>No</td>\n",
       "    </tr>\n",
       "    <tr>\n",
       "      <th>550638</th>\n",
       "      <td>02/06/2016</td>\n",
       "      <td>Mortgage</td>\n",
       "      <td>Application, originator, mortgage broker</td>\n",
       "      <td>JPMorgan Chase &amp; Co.</td>\n",
       "      <td>CA</td>\n",
       "      <td>Web</td>\n",
       "      <td>02/06/2016</td>\n",
       "      <td>Closed with explanation</td>\n",
       "      <td>Yes</td>\n",
       "      <td>No</td>\n",
       "    </tr>\n",
       "  </tbody>\n",
       "</table>\n",
       "<p>4549 rows × 10 columns</p>\n",
       "</div>"
      ],
      "text/plain": [
       "       Fecha_Enviada_por_el_Cliente      Producto_Financiero  \\\n",
       "148                      09/24/2013                 Mortgage   \n",
       "204                      09/24/2013  Bank account or service   \n",
       "356                      09/24/2013                 Mortgage   \n",
       "628                      09/10/2013                 Mortgage   \n",
       "675                      09/01/2013          Debt collection   \n",
       "...                             ...                      ...   \n",
       "549651                   04/04/2016              Credit card   \n",
       "549965                   12/10/2015                 Mortgage   \n",
       "550211                   03/15/2016                 Mortgage   \n",
       "550235                   03/30/2016                 Mortgage   \n",
       "550638                   02/06/2016                 Mortgage   \n",
       "\n",
       "                                           Queja                 Banco  \\\n",
       "148     Loan modification,collection,foreclosure  JPMorgan Chase & Co.   \n",
       "204      Account opening, closing, or management  JPMorgan Chase & Co.   \n",
       "356     Application, originator, mortgage broker  JPMorgan Chase & Co.   \n",
       "628     Loan modification,collection,foreclosure  JPMorgan Chase & Co.   \n",
       "675              Disclosure verification of debt  JPMorgan Chase & Co.   \n",
       "...                                          ...                   ...   \n",
       "549651                          Billing disputes  JPMorgan Chase & Co.   \n",
       "549965  Loan modification,collection,foreclosure  JPMorgan Chase & Co.   \n",
       "550211  Loan modification,collection,foreclosure  JPMorgan Chase & Co.   \n",
       "550235  Loan modification,collection,foreclosure  JPMorgan Chase & Co.   \n",
       "550638  Application, originator, mortgage broker  JPMorgan Chase & Co.   \n",
       "\n",
       "       Diminutivo_de_Estado_de_USA Medio_de_Envío Fecha_Recibida_al_Banco  \\\n",
       "148                             CA            Web              09/25/2013   \n",
       "204                             CA            Web              10/09/2013   \n",
       "356                             CA            Web              09/26/2013   \n",
       "628                             CA       Referral              09/11/2013   \n",
       "675                             CA            Web              08/31/2013   \n",
       "...                            ...            ...                     ...   \n",
       "549651                          CA            Web              04/04/2016   \n",
       "549965                          CA            Web              12/10/2015   \n",
       "550211                          CA       Referral              03/17/2016   \n",
       "550235                          CA            Web              04/01/2016   \n",
       "550638                          CA            Web              02/06/2016   \n",
       "\n",
       "           company_response_to_consumer  \\\n",
       "148             Closed with explanation   \n",
       "204             Closed with explanation   \n",
       "356         Closed with monetary relief   \n",
       "628             Closed with explanation   \n",
       "675             Closed with explanation   \n",
       "...                                 ...   \n",
       "549651  Closed with non-monetary relief   \n",
       "549965          Closed with explanation   \n",
       "550211          Closed with explanation   \n",
       "550235          Closed with explanation   \n",
       "550638          Closed with explanation   \n",
       "\n",
       "       ¿Se_evaluó_a_tiempo_la_respuesta_de_la_queja?  \\\n",
       "148                                              Yes   \n",
       "204                                              Yes   \n",
       "356                                              Yes   \n",
       "628                                              Yes   \n",
       "675                                              Yes   \n",
       "...                                              ...   \n",
       "549651                                           Yes   \n",
       "549965                                           Yes   \n",
       "550211                                           Yes   \n",
       "550235                                           Yes   \n",
       "550638                                           Yes   \n",
       "\n",
       "       ¿Cliente_insastifecho_a_la_solución?  \n",
       "148                                      No  \n",
       "204                                      No  \n",
       "356                                      No  \n",
       "628                                      No  \n",
       "675                                      No  \n",
       "...                                     ...  \n",
       "549651                                   No  \n",
       "549965                                   No  \n",
       "550211                                   No  \n",
       "550235                                   No  \n",
       "550638                                   No  \n",
       "\n",
       "[4549 rows x 10 columns]"
      ]
     },
     "execution_count": 55,
     "metadata": {},
     "output_type": "execute_result"
    }
   ],
   "source": [
    "df = df.drop(df[df['Diminutivo_de_Estado_de_USA']!=\"CA\"].index)\n",
    "df = df.drop(df[df['¿Cliente_insastifecho_a_la_solución?']!=\"No\"].index)\n",
    "\n",
    "Jpmorgan1 = df.drop(df[df['Banco']!='JPMorgan Chase & Co.'].index)\n",
    "Banka1 = df.drop(df[df['Banco']!='Bank of America'].index)\n",
    "Wells1 = df.drop(df[df['Banco']!='Wells Fargo & Company'].index)\n",
    "Citi1 = df.drop(df[df['Banco']!='Citibank'].index)\n",
    "Bancorp1 = df.drop(df[df['Banco']!='U.S. Bancorp'].index)\n",
    "Jpmorgan1"
   ]
  },
  {
   "cell_type": "code",
   "execution_count": 56,
   "metadata": {},
   "outputs": [],
   "source": [
    "#Se corre una vez estas 2 líneas para convertir de tipo objeto a fecha\n",
    "Jpmorgan1['Fecha_Recibida_al_Banco'] = Jpmorgan1['Fecha_Recibida_al_Banco'].apply(lambda _ : datetime.strptime(_,\"%m/%d/%Y\"))\n",
    "Jpmorgan1=Jpmorgan1.groupby(Jpmorgan1['Fecha_Recibida_al_Banco'].dt.strftime(\"%Y %m\")).count()\n",
    "Jpmorgan1=Jpmorgan1.drop(['Fecha_Enviada_por_el_Cliente','Queja','Banco','Medio_de_Envío','Fecha_Recibida_al_Banco','company_response_to_consumer','¿Se_evaluó_a_tiempo_la_respuesta_de_la_queja?','¿Cliente_insastifecho_a_la_solución?','Diminutivo_de_Estado_de_USA'],axis = 1)\n",
    "\n",
    "Banka1['Fecha_Recibida_al_Banco'] = Banka1['Fecha_Recibida_al_Banco'].apply(lambda _ : datetime.strptime(_,\"%m/%d/%Y\"))\n",
    "Banka1=Banka1.groupby(Banka1['Fecha_Recibida_al_Banco'].dt.strftime(\"%Y %m\")).count()\n",
    "Banka1=Banka1.drop(['Fecha_Enviada_por_el_Cliente','Queja','Banco','Medio_de_Envío','Fecha_Recibida_al_Banco','company_response_to_consumer','¿Se_evaluó_a_tiempo_la_respuesta_de_la_queja?','¿Cliente_insastifecho_a_la_solución?','Diminutivo_de_Estado_de_USA'],axis = 1)\n",
    "\n",
    "Wells1['Fecha_Recibida_al_Banco'] = Wells1['Fecha_Recibida_al_Banco'].apply(lambda _ : datetime.strptime(_,\"%m/%d/%Y\"))\n",
    "Wells1=Wells1.groupby(Wells1['Fecha_Recibida_al_Banco'].dt.strftime(\"%Y %m\")).count()\n",
    "Wells1=Wells1.drop(['Fecha_Enviada_por_el_Cliente','Queja','Banco','Medio_de_Envío','Fecha_Recibida_al_Banco','company_response_to_consumer','¿Se_evaluó_a_tiempo_la_respuesta_de_la_queja?','¿Cliente_insastifecho_a_la_solución?','Diminutivo_de_Estado_de_USA'],axis = 1)\n",
    "\n",
    "Citi1['Fecha_Recibida_al_Banco'] = Citi1['Fecha_Recibida_al_Banco'].apply(lambda _ : datetime.strptime(_,\"%m/%d/%Y\"))\n",
    "Citi1=Citi1.groupby(Citi1['Fecha_Recibida_al_Banco'].dt.strftime(\"%Y %m\")).count()\n",
    "Citi1=Citi1.drop(['Fecha_Enviada_por_el_Cliente','Queja','Banco','Medio_de_Envío','Fecha_Recibida_al_Banco','company_response_to_consumer','¿Se_evaluó_a_tiempo_la_respuesta_de_la_queja?','¿Cliente_insastifecho_a_la_solución?','Diminutivo_de_Estado_de_USA'],axis = 1)\n",
    "\n",
    "Bancorp1['Fecha_Recibida_al_Banco'] = Bancorp1['Fecha_Recibida_al_Banco'].apply(lambda _ : datetime.strptime(_,\"%m/%d/%Y\"))\n",
    "Bancorp1=Bancorp1.groupby(Bancorp1['Fecha_Recibida_al_Banco'].dt.strftime(\"%Y %m\")).count()\n",
    "Bancorp1=Bancorp1.drop(['Fecha_Enviada_por_el_Cliente','Queja','Banco','Medio_de_Envío','Fecha_Recibida_al_Banco','company_response_to_consumer','¿Se_evaluó_a_tiempo_la_respuesta_de_la_queja?','¿Cliente_insastifecho_a_la_solución?','Diminutivo_de_Estado_de_USA'],axis = 1)\n"
   ]
  },
  {
   "cell_type": "code",
   "execution_count": 57,
   "metadata": {},
   "outputs": [],
   "source": [
    "import pandas as pd\n",
    "num=[]\n",
    "for i in range(1,54):\n",
    "    num.append(i)\n",
    "\n",
    "Jpmorgan1=Jpmorgan1.assign(Numeros=num)\n",
    "Banka1=Banka1.assign(Numeros=num)\n",
    "Wells1=Wells1.assign(Numeros=num)\n",
    "Citi1=Citi1.assign(Numeros=num)\n",
    "Bancorp1=Bancorp1.assign(Numeros=num)"
   ]
  },
  {
   "cell_type": "code",
   "execution_count": 58,
   "metadata": {},
   "outputs": [],
   "source": [
    "import pandas as pd\n",
    "import numpy as np\n",
    "import matplotlib.pyplot as plt #Visualización\n",
    "import seaborn as sns #Visualización\n",
    "from statsmodels.formula.api import ols\n",
    "from sklearn.feature_selection import RFE\n",
    "from sklearn.linear_model import LinearRegression\n",
    "import statsmodels.api as sm\n",
    "from sklearn.metrics import mean_squared_error\n",
    "from statsmodels.stats.outliers_influence import variance_inflation_factor\n",
    "\n",
    "def build_model(X,y):\n",
    "    X = sm.add_constant(X) #Adding the constant\n",
    "    lm = sm.OLS(y,X).fit() # fitting the model\n",
    "    print(lm.summary()) # model summary\n",
    "    \n",
    "    return X\n",
    "\n",
    "def checkVIF(X):\n",
    "    vif = pd.DataFrame()\n",
    "    vif['Variables'] = X.columns\n",
    "    vif['VIF'] = [variance_inflation_factor(X.values, i) for i in range(X.shape[1])]\n",
    "    vif['VIF'] = round(vif['VIF'], 2)\n",
    "    return(vif)"
   ]
  },
  {
   "cell_type": "code",
   "execution_count": 59,
   "metadata": {},
   "outputs": [],
   "source": [
    "#Fit model\n",
    "y=Jpmorgan1['Producto_Financiero']\n",
    "x=Jpmorgan1['Numeros']\n",
    "d = {\"x\": x}\n",
    "X=pd.DataFrame(d)"
   ]
  },
  {
   "cell_type": "code",
   "execution_count": 60,
   "metadata": {},
   "outputs": [
    {
     "name": "stdout",
     "output_type": "stream",
     "text": [
      "                             OLS Regression Results                            \n",
      "===============================================================================\n",
      "Dep. Variable:     Producto_Financiero   R-squared:                       0.001\n",
      "Model:                             OLS   Adj. R-squared:                 -0.019\n",
      "Method:                  Least Squares   F-statistic:                   0.03979\n",
      "Date:                 Tue, 12 Oct 2021   Prob (F-statistic):              0.843\n",
      "Time:                         23:22:52   Log-Likelihood:                -233.28\n",
      "No. Observations:                   53   AIC:                             470.6\n",
      "Df Residuals:                       51   BIC:                             474.5\n",
      "Df Model:                            1                                         \n",
      "Covariance Type:             nonrobust                                         \n",
      "==============================================================================\n",
      "                 coef    std err          t      P>|t|      [0.025      0.975]\n",
      "------------------------------------------------------------------------------\n",
      "const         86.8033      5.607     15.481      0.000      75.547      98.060\n",
      "x             -0.0360      0.181     -0.199      0.843      -0.399       0.327\n",
      "==============================================================================\n",
      "Omnibus:                        5.768   Durbin-Watson:                   1.236\n",
      "Prob(Omnibus):                  0.056   Jarque-Bera (JB):                2.289\n",
      "Skew:                           0.109   Prob(JB):                        0.318\n",
      "Kurtosis:                       2.006   Cond. No.                         63.0\n",
      "==============================================================================\n",
      "\n",
      "Notes:\n",
      "[1] Standard Errors assume that the covariance matrix of the errors is correctly specified.\n"
     ]
    }
   ],
   "source": [
    "model1=build_model(X,y)"
   ]
  },
  {
   "cell_type": "code",
   "execution_count": 61,
   "metadata": {},
   "outputs": [
    {
     "data": {
      "text/html": [
       "<div>\n",
       "<style scoped>\n",
       "    .dataframe tbody tr th:only-of-type {\n",
       "        vertical-align: middle;\n",
       "    }\n",
       "\n",
       "    .dataframe tbody tr th {\n",
       "        vertical-align: top;\n",
       "    }\n",
       "\n",
       "    .dataframe thead th {\n",
       "        text-align: right;\n",
       "    }\n",
       "</style>\n",
       "<table border=\"1\" class=\"dataframe\">\n",
       "  <thead>\n",
       "    <tr style=\"text-align: right;\">\n",
       "      <th></th>\n",
       "      <th>Variables</th>\n",
       "      <th>VIF</th>\n",
       "    </tr>\n",
       "  </thead>\n",
       "  <tbody>\n",
       "    <tr>\n",
       "      <th>0</th>\n",
       "      <td>const</td>\n",
       "      <td>4.12</td>\n",
       "    </tr>\n",
       "    <tr>\n",
       "      <th>1</th>\n",
       "      <td>x</td>\n",
       "      <td>1.00</td>\n",
       "    </tr>\n",
       "  </tbody>\n",
       "</table>\n",
       "</div>"
      ],
      "text/plain": [
       "  Variables   VIF\n",
       "0     const  4.12\n",
       "1         x  1.00"
      ]
     },
     "execution_count": 61,
     "metadata": {},
     "output_type": "execute_result"
    }
   ],
   "source": [
    "checkVIF(model1)"
   ]
  },
  {
   "cell_type": "code",
   "execution_count": 62,
   "metadata": {},
   "outputs": [
    {
     "data": {
      "text/plain": [
       "[<matplotlib.lines.Line2D at 0x1c00bc961f0>]"
      ]
     },
     "execution_count": 62,
     "metadata": {},
     "output_type": "execute_result"
    },
    {
     "data": {
      "image/png": "[encoded data removed]",
      "text/plain": [
       "<Figure size 432x288 with 1 Axes>"
      ]
     },
     "metadata": {
      "needs_background": "light"
     },
     "output_type": "display_data"
    }
   ],
   "source": [
    "plt.plot(x, y, 'o')\n",
    "a, b= np.polyfit(x, y, 1)\n",
    "plt.plot(x, a*x + b)"
   ]
  },
  {
   "cell_type": "code",
   "execution_count": 63,
   "metadata": {},
   "outputs": [
    {
     "name": "stdout",
     "output_type": "stream",
     "text": [
      "                             OLS Regression Results                            \n",
      "===============================================================================\n",
      "Dep. Variable:     Producto_Financiero   R-squared:                       0.988\n",
      "Model:                             OLS   Adj. R-squared:                  0.987\n",
      "Method:                  Least Squares   F-statistic:                     1984.\n",
      "Date:                 Tue, 12 Oct 2021   Prob (F-statistic):           2.37e-48\n",
      "Time:                         23:22:53   Log-Likelihood:                -117.06\n",
      "No. Observations:                   53   AIC:                             240.1\n",
      "Df Residuals:                       50   BIC:                             246.0\n",
      "Df Model:                            2                                         \n",
      "Covariance Type:             nonrobust                                         \n",
      "==============================================================================\n",
      "                 coef    std err          t      P>|t|      [0.025      0.975]\n",
      "------------------------------------------------------------------------------\n",
      "const         41.4547      0.958     43.266      0.000      39.530      43.379\n",
      "x              0.0122      0.020      0.601      0.551      -0.029       0.053\n",
      "x_2            0.0057   9.02e-05     62.967      0.000       0.005       0.006\n",
      "==============================================================================\n",
      "Omnibus:                       10.445   Durbin-Watson:                   1.693\n",
      "Prob(Omnibus):                  0.005   Jarque-Bera (JB):               10.736\n",
      "Skew:                          -1.091   Prob(JB):                      0.00466\n",
      "Kurtosis:                       3.323   Cond. No.                     2.61e+04\n",
      "==============================================================================\n",
      "\n",
      "Notes:\n",
      "[1] Standard Errors assume that the covariance matrix of the errors is correctly specified.\n",
      "[2] The condition number is large, 2.61e+04. This might indicate that there are\n",
      "strong multicollinearity or other numerical problems.\n"
     ]
    }
   ],
   "source": [
    "x_2=Jpmorgan1['Producto_Financiero']**2\n",
    "d2 = {\"x\":x, \"x_2\":x_2}\n",
    "X_2=pd.DataFrame(d2)\n",
    "mod3=build_model(X_2,y)"
   ]
  },
  {
   "cell_type": "code",
   "execution_count": 64,
   "metadata": {},
   "outputs": [
    {
     "data": {
      "text/plain": [
       "[<matplotlib.lines.Line2D at 0x1c00d905100>]"
      ]
     },
     "execution_count": 64,
     "metadata": {},
     "output_type": "execute_result"
    },
    {
     "data": {
      "image/png": "[encoded data removed]",
      "text/plain": [
       "<Figure size 432x288 with 1 Axes>"
      ]
     },
     "metadata": {
      "needs_background": "light"
     },
     "output_type": "display_data"
    }
   ],
   "source": [
    "plt.plot(x, y, 'o')\n",
    "a,b,c = np.polyfit(x, y, 2)\n",
    "plt.plot(x, a*x*x +b*x + c)"
   ]
  },
  {
   "cell_type": "code",
   "execution_count": 65,
   "metadata": {},
   "outputs": [
    {
     "data": {
      "text/plain": [
       "array([62.63084949])"
      ]
     },
     "execution_count": 65,
     "metadata": {},
     "output_type": "execute_result"
    }
   ],
   "source": [
    "X_2=sm.add_constant(X_2)\n",
    "y_pred = sm.OLS(y,X_2).fit().predict([1,60,60**2]) #lo que está dentro del arreglo es lo que multiplica a las betas, incluyendo B0\n",
    "y_pred"
   ]
  },
  {
   "cell_type": "code",
   "execution_count": 66,
   "metadata": {},
   "outputs": [],
   "source": [
    "#Fit model\n",
    "y=Banka1['Producto_Financiero']\n",
    "x=Banka1['Numeros']\n",
    "d = {\"x\": x}\n",
    "X=pd.DataFrame(d)"
   ]
  },
  {
   "cell_type": "code",
   "execution_count": 67,
   "metadata": {},
   "outputs": [
    {
     "name": "stdout",
     "output_type": "stream",
     "text": [
      "                             OLS Regression Results                            \n",
      "===============================================================================\n",
      "Dep. Variable:     Producto_Financiero   R-squared:                       0.367\n",
      "Model:                             OLS   Adj. R-squared:                  0.354\n",
      "Method:                  Least Squares   F-statistic:                     29.52\n",
      "Date:                 Tue, 12 Oct 2021   Prob (F-statistic):           1.56e-06\n",
      "Time:                         23:22:53   Log-Likelihood:                -279.86\n",
      "No. Observations:                   53   AIC:                             563.7\n",
      "Df Residuals:                       51   BIC:                             567.7\n",
      "Df Model:                            1                                         \n",
      "Covariance Type:             nonrobust                                         \n",
      "==============================================================================\n",
      "                 coef    std err          t      P>|t|      [0.025      0.975]\n",
      "------------------------------------------------------------------------------\n",
      "const        219.3244     13.504     16.242      0.000     192.214     246.435\n",
      "x             -2.3642      0.435     -5.433      0.000      -3.238      -1.491\n",
      "==============================================================================\n",
      "Omnibus:                        9.440   Durbin-Watson:                   0.797\n",
      "Prob(Omnibus):                  0.009   Jarque-Bera (JB):               16.055\n",
      "Skew:                           0.430   Prob(JB):                     0.000326\n",
      "Kurtosis:                       5.555   Cond. No.                         63.0\n",
      "==============================================================================\n",
      "\n",
      "Notes:\n",
      "[1] Standard Errors assume that the covariance matrix of the errors is correctly specified.\n"
     ]
    }
   ],
   "source": [
    "model1=build_model(X,y)"
   ]
  },
  {
   "cell_type": "code",
   "execution_count": 68,
   "metadata": {},
   "outputs": [
    {
     "data": {
      "text/html": [
       "<div>\n",
       "<style scoped>\n",
       "    .dataframe tbody tr th:only-of-type {\n",
       "        vertical-align: middle;\n",
       "    }\n",
       "\n",
       "    .dataframe tbody tr th {\n",
       "        vertical-align: top;\n",
       "    }\n",
       "\n",
       "    .dataframe thead th {\n",
       "        text-align: right;\n",
       "    }\n",
       "</style>\n",
       "<table border=\"1\" class=\"dataframe\">\n",
       "  <thead>\n",
       "    <tr style=\"text-align: right;\">\n",
       "      <th></th>\n",
       "      <th>Variables</th>\n",
       "      <th>VIF</th>\n",
       "    </tr>\n",
       "  </thead>\n",
       "  <tbody>\n",
       "    <tr>\n",
       "      <th>0</th>\n",
       "      <td>const</td>\n",
       "      <td>4.12</td>\n",
       "    </tr>\n",
       "    <tr>\n",
       "      <th>1</th>\n",
       "      <td>x</td>\n",
       "      <td>1.00</td>\n",
       "    </tr>\n",
       "  </tbody>\n",
       "</table>\n",
       "</div>"
      ],
      "text/plain": [
       "  Variables   VIF\n",
       "0     const  4.12\n",
       "1         x  1.00"
      ]
     },
     "execution_count": 68,
     "metadata": {},
     "output_type": "execute_result"
    }
   ],
   "source": [
    "checkVIF(model1)"
   ]
  },
  {
   "cell_type": "code",
   "execution_count": 69,
   "metadata": {},
   "outputs": [
    {
     "data": {
      "text/plain": [
       "[<matplotlib.lines.Line2D at 0x1c00e9ecdf0>]"
      ]
     },
     "execution_count": 69,
     "metadata": {},
     "output_type": "execute_result"
    },
    {
     "data": {
      "image/png": "[encoded data removed]",
      "text/plain": [
       "<Figure size 432x288 with 1 Axes>"
      ]
     },
     "metadata": {
      "needs_background": "light"
     },
     "output_type": "display_data"
    }
   ],
   "source": [
    "plt.plot(x, y, 'o')\n",
    "a, b= np.polyfit(x, y, 1)\n",
    "plt.plot(x, a*x + b)"
   ]
  },
  {
   "cell_type": "code",
   "execution_count": 70,
   "metadata": {},
   "outputs": [
    {
     "name": "stdout",
     "output_type": "stream",
     "text": [
      "                             OLS Regression Results                            \n",
      "===============================================================================\n",
      "Dep. Variable:     Producto_Financiero   R-squared:                       0.967\n",
      "Model:                             OLS   Adj. R-squared:                  0.966\n",
      "Method:                  Least Squares   F-statistic:                     729.5\n",
      "Date:                 Tue, 12 Oct 2021   Prob (F-statistic):           1.02e-37\n",
      "Time:                         23:22:54   Log-Likelihood:                -201.68\n",
      "No. Observations:                   53   AIC:                             409.4\n",
      "Df Residuals:                       50   BIC:                             415.3\n",
      "Df Model:                            2                                         \n",
      "Covariance Type:             nonrobust                                         \n",
      "==============================================================================\n",
      "                 coef    std err          t      P>|t|      [0.025      0.975]\n",
      "------------------------------------------------------------------------------\n",
      "const         93.7374      5.210     17.992      0.000      83.273     104.202\n",
      "x             -0.3196      0.121     -2.634      0.011      -0.563      -0.076\n",
      "x_2            0.0025   8.43e-05     30.096      0.000       0.002       0.003\n",
      "==============================================================================\n",
      "Omnibus:                       26.817   Durbin-Watson:                   1.831\n",
      "Prob(Omnibus):                  0.000   Jarque-Bera (JB):               48.045\n",
      "Skew:                          -1.618   Prob(JB):                     3.69e-11\n",
      "Kurtosis:                       6.359   Cond. No.                     1.20e+05\n",
      "==============================================================================\n",
      "\n",
      "Notes:\n",
      "[1] Standard Errors assume that the covariance matrix of the errors is correctly specified.\n",
      "[2] The condition number is large, 1.2e+05. This might indicate that there are\n",
      "strong multicollinearity or other numerical problems.\n"
     ]
    }
   ],
   "source": [
    "x_2=Banka1['Producto_Financiero']**2\n",
    "d2 = {\"x\":x, \"x_2\":x_2}\n",
    "X_2=pd.DataFrame(d2)\n",
    "mod3=build_model(X_2,y)"
   ]
  },
  {
   "cell_type": "code",
   "execution_count": 71,
   "metadata": {},
   "outputs": [
    {
     "data": {
      "text/plain": [
       "[<matplotlib.lines.Line2D at 0x1c012788550>]"
      ]
     },
     "execution_count": 71,
     "metadata": {},
     "output_type": "execute_result"
    },
    {
     "data": {
      "image/png": "[encoded data removed]",
      "text/plain": [
       "<Figure size 432x288 with 1 Axes>"
      ]
     },
     "metadata": {
      "needs_background": "light"
     },
     "output_type": "display_data"
    }
   ],
   "source": [
    "plt.plot(x, y, 'o')\n",
    "a,b,c = np.polyfit(x, y, 2)\n",
    "plt.plot(x, a*x*x +b*x + c)"
   ]
  },
  {
   "cell_type": "code",
   "execution_count": 72,
   "metadata": {},
   "outputs": [
    {
     "data": {
      "text/plain": [
       "array([83.69548544])"
      ]
     },
     "execution_count": 72,
     "metadata": {},
     "output_type": "execute_result"
    }
   ],
   "source": [
    "X_2=sm.add_constant(X_2)\n",
    "y_pred = sm.OLS(y,X_2).fit().predict([1,60,60**2]) #lo que está dentro del arreglo es lo que multiplica a las betas, incluyendo B0\n",
    "y_pred"
   ]
  },
  {
   "cell_type": "code",
   "execution_count": 73,
   "metadata": {},
   "outputs": [],
   "source": [
    "#Fit model\n",
    "y=Wells1['Producto_Financiero']\n",
    "x=Wells1['Numeros']\n",
    "d = {\"x\": x}\n",
    "X=pd.DataFrame(d)"
   ]
  },
  {
   "cell_type": "code",
   "execution_count": 74,
   "metadata": {},
   "outputs": [
    {
     "name": "stdout",
     "output_type": "stream",
     "text": [
      "                             OLS Regression Results                            \n",
      "===============================================================================\n",
      "Dep. Variable:     Producto_Financiero   R-squared:                       0.019\n",
      "Model:                             OLS   Adj. R-squared:                 -0.000\n",
      "Method:                  Least Squares   F-statistic:                    0.9905\n",
      "Date:                 Tue, 12 Oct 2021   Prob (F-statistic):              0.324\n",
      "Time:                         23:22:54   Log-Likelihood:                -255.38\n",
      "No. Observations:                   53   AIC:                             514.8\n",
      "Df Residuals:                       51   BIC:                             518.7\n",
      "Df Model:                            1                                         \n",
      "Covariance Type:             nonrobust                                         \n",
      "==============================================================================\n",
      "                 coef    std err          t      P>|t|      [0.025      0.975]\n",
      "------------------------------------------------------------------------------\n",
      "const        122.3483      8.508     14.381      0.000     105.268     139.429\n",
      "x             -0.2729      0.274     -0.995      0.324      -0.823       0.278\n",
      "==============================================================================\n",
      "Omnibus:                        5.623   Durbin-Watson:                   0.836\n",
      "Prob(Omnibus):                  0.060   Jarque-Bera (JB):                5.476\n",
      "Skew:                          -0.419   Prob(JB):                       0.0647\n",
      "Kurtosis:                       4.333   Cond. No.                         63.0\n",
      "==============================================================================\n",
      "\n",
      "Notes:\n",
      "[1] Standard Errors assume that the covariance matrix of the errors is correctly specified.\n"
     ]
    }
   ],
   "source": [
    "model1=build_model(X,y)"
   ]
  },
  {
   "cell_type": "code",
   "execution_count": 75,
   "metadata": {},
   "outputs": [
    {
     "data": {
      "text/html": [
       "<div>\n",
       "<style scoped>\n",
       "    .dataframe tbody tr th:only-of-type {\n",
       "        vertical-align: middle;\n",
       "    }\n",
       "\n",
       "    .dataframe tbody tr th {\n",
       "        vertical-align: top;\n",
       "    }\n",
       "\n",
       "    .dataframe thead th {\n",
       "        text-align: right;\n",
       "    }\n",
       "</style>\n",
       "<table border=\"1\" class=\"dataframe\">\n",
       "  <thead>\n",
       "    <tr style=\"text-align: right;\">\n",
       "      <th></th>\n",
       "      <th>Variables</th>\n",
       "      <th>VIF</th>\n",
       "    </tr>\n",
       "  </thead>\n",
       "  <tbody>\n",
       "    <tr>\n",
       "      <th>0</th>\n",
       "      <td>const</td>\n",
       "      <td>4.12</td>\n",
       "    </tr>\n",
       "    <tr>\n",
       "      <th>1</th>\n",
       "      <td>x</td>\n",
       "      <td>1.00</td>\n",
       "    </tr>\n",
       "  </tbody>\n",
       "</table>\n",
       "</div>"
      ],
      "text/plain": [
       "  Variables   VIF\n",
       "0     const  4.12\n",
       "1         x  1.00"
      ]
     },
     "execution_count": 75,
     "metadata": {},
     "output_type": "execute_result"
    }
   ],
   "source": [
    "checkVIF(model1)"
   ]
  },
  {
   "cell_type": "code",
   "execution_count": 76,
   "metadata": {},
   "outputs": [
    {
     "data": {
      "text/plain": [
       "[<matplotlib.lines.Line2D at 0x1c012736370>]"
      ]
     },
     "execution_count": 76,
     "metadata": {},
     "output_type": "execute_result"
    },
    {
     "data": {
      "image/png": "[encoded data removed]",
      "text/plain": [
       "<Figure size 432x288 with 1 Axes>"
      ]
     },
     "metadata": {
      "needs_background": "light"
     },
     "output_type": "display_data"
    }
   ],
   "source": [
    "plt.plot(x, y, 'o')\n",
    "a, b= np.polyfit(x, y, 1)\n",
    "plt.plot(x, a*x + b)"
   ]
  },
  {
   "cell_type": "code",
   "execution_count": 77,
   "metadata": {},
   "outputs": [
    {
     "name": "stdout",
     "output_type": "stream",
     "text": [
      "                             OLS Regression Results                            \n",
      "===============================================================================\n",
      "Dep. Variable:     Producto_Financiero   R-squared:                       0.954\n",
      "Model:                             OLS   Adj. R-squared:                  0.953\n",
      "Method:                  Least Squares   F-statistic:                     524.1\n",
      "Date:                 Tue, 12 Oct 2021   Prob (F-statistic):           2.87e-34\n",
      "Time:                         23:22:55   Log-Likelihood:                -174.02\n",
      "No. Observations:                   53   AIC:                             354.0\n",
      "Df Residuals:                       50   BIC:                             360.0\n",
      "Df Model:                            2                                         \n",
      "Covariance Type:             nonrobust                                         \n",
      "==============================================================================\n",
      "                 coef    std err          t      P>|t|      [0.025      0.975]\n",
      "------------------------------------------------------------------------------\n",
      "const         50.9370      2.897     17.584      0.000      45.119      56.755\n",
      "x              0.1245      0.061      2.043      0.046       0.002       0.247\n",
      "x_2            0.0043      0.000     32.050      0.000       0.004       0.005\n",
      "==============================================================================\n",
      "Omnibus:                       44.602   Durbin-Watson:                   1.238\n",
      "Prob(Omnibus):                  0.000   Jarque-Bera (JB):              142.555\n",
      "Skew:                          -2.429   Prob(JB):                     1.11e-31\n",
      "Kurtosis:                       9.400   Cond. No.                     5.00e+04\n",
      "==============================================================================\n",
      "\n",
      "Notes:\n",
      "[1] Standard Errors assume that the covariance matrix of the errors is correctly specified.\n",
      "[2] The condition number is large,  5e+04. This might indicate that there are\n",
      "strong multicollinearity or other numerical problems.\n"
     ]
    }
   ],
   "source": [
    "x_2=Wells1['Producto_Financiero']**2\n",
    "d2 = {\"x\":x, \"x_2\":x_2}\n",
    "X_2=pd.DataFrame(d2)\n",
    "mod3=build_model(X_2,y)"
   ]
  },
  {
   "cell_type": "code",
   "execution_count": 78,
   "metadata": {},
   "outputs": [
    {
     "data": {
      "text/plain": [
       "[<matplotlib.lines.Line2D at 0x1c00ea716d0>]"
      ]
     },
     "execution_count": 78,
     "metadata": {},
     "output_type": "execute_result"
    },
    {
     "data": {
      "image/png": "[encoded data removed]",
      "text/plain": [
       "<Figure size 432x288 with 1 Axes>"
      ]
     },
     "metadata": {
      "needs_background": "light"
     },
     "output_type": "display_data"
    }
   ],
   "source": [
    "plt.plot(x, y, 'o')\n",
    "a,b,c = np.polyfit(x, y, 2)\n",
    "plt.plot(x, a*x*x +b*x + c)"
   ]
  },
  {
   "cell_type": "code",
   "execution_count": 79,
   "metadata": {},
   "outputs": [
    {
     "data": {
      "text/plain": [
       "array([73.86058151])"
      ]
     },
     "execution_count": 79,
     "metadata": {},
     "output_type": "execute_result"
    }
   ],
   "source": [
    "X_2=sm.add_constant(X_2)\n",
    "y_pred = sm.OLS(y,X_2).fit().predict([1,60,60**2]) #lo que está dentro del arreglo es lo que multiplica a las betas, incluyendo B0\n",
    "y_pred"
   ]
  },
  {
   "cell_type": "code",
   "execution_count": 80,
   "metadata": {},
   "outputs": [],
   "source": [
    "#Fit model\n",
    "y=Citi1['Producto_Financiero']\n",
    "x=Citi1['Numeros']\n",
    "d = {\"x\": x}\n",
    "X=pd.DataFrame(d)"
   ]
  },
  {
   "cell_type": "code",
   "execution_count": 81,
   "metadata": {},
   "outputs": [
    {
     "name": "stdout",
     "output_type": "stream",
     "text": [
      "                             OLS Regression Results                            \n",
      "===============================================================================\n",
      "Dep. Variable:     Producto_Financiero   R-squared:                       0.173\n",
      "Model:                             OLS   Adj. R-squared:                  0.157\n",
      "Method:                  Least Squares   F-statistic:                     10.66\n",
      "Date:                 Tue, 12 Oct 2021   Prob (F-statistic):            0.00196\n",
      "Time:                         23:22:55   Log-Likelihood:                -211.13\n",
      "No. Observations:                   53   AIC:                             426.3\n",
      "Df Residuals:                       51   BIC:                             430.2\n",
      "Df Model:                            1                                         \n",
      "Covariance Type:             nonrobust                                         \n",
      "==============================================================================\n",
      "                 coef    std err          t      P>|t|      [0.025      0.975]\n",
      "------------------------------------------------------------------------------\n",
      "const         42.7562      3.692     11.581      0.000      35.344      50.168\n",
      "x              0.3885      0.119      3.265      0.002       0.150       0.627\n",
      "==============================================================================\n",
      "Omnibus:                        2.620   Durbin-Watson:                   1.343\n",
      "Prob(Omnibus):                  0.270   Jarque-Bera (JB):                2.518\n",
      "Skew:                           0.485   Prob(JB):                        0.284\n",
      "Kurtosis:                       2.555   Cond. No.                         63.0\n",
      "==============================================================================\n",
      "\n",
      "Notes:\n",
      "[1] Standard Errors assume that the covariance matrix of the errors is correctly specified.\n"
     ]
    }
   ],
   "source": [
    "model1=build_model(X,y)"
   ]
  },
  {
   "cell_type": "code",
   "execution_count": 82,
   "metadata": {},
   "outputs": [
    {
     "data": {
      "text/html": [
       "<div>\n",
       "<style scoped>\n",
       "    .dataframe tbody tr th:only-of-type {\n",
       "        vertical-align: middle;\n",
       "    }\n",
       "\n",
       "    .dataframe tbody tr th {\n",
       "        vertical-align: top;\n",
       "    }\n",
       "\n",
       "    .dataframe thead th {\n",
       "        text-align: right;\n",
       "    }\n",
       "</style>\n",
       "<table border=\"1\" class=\"dataframe\">\n",
       "  <thead>\n",
       "    <tr style=\"text-align: right;\">\n",
       "      <th></th>\n",
       "      <th>Variables</th>\n",
       "      <th>VIF</th>\n",
       "    </tr>\n",
       "  </thead>\n",
       "  <tbody>\n",
       "    <tr>\n",
       "      <th>0</th>\n",
       "      <td>const</td>\n",
       "      <td>4.12</td>\n",
       "    </tr>\n",
       "    <tr>\n",
       "      <th>1</th>\n",
       "      <td>x</td>\n",
       "      <td>1.00</td>\n",
       "    </tr>\n",
       "  </tbody>\n",
       "</table>\n",
       "</div>"
      ],
      "text/plain": [
       "  Variables   VIF\n",
       "0     const  4.12\n",
       "1         x  1.00"
      ]
     },
     "execution_count": 82,
     "metadata": {},
     "output_type": "execute_result"
    }
   ],
   "source": [
    "checkVIF(model1)"
   ]
  },
  {
   "cell_type": "code",
   "execution_count": 83,
   "metadata": {},
   "outputs": [
    {
     "name": "stdout",
     "output_type": "stream",
     "text": [
      "                             OLS Regression Results                            \n",
      "===============================================================================\n",
      "Dep. Variable:     Producto_Financiero   R-squared:                       0.972\n",
      "Model:                             OLS   Adj. R-squared:                  0.971\n",
      "Method:                  Least Squares   F-statistic:                     871.2\n",
      "Date:                 Tue, 12 Oct 2021   Prob (F-statistic):           1.38e-39\n",
      "Time:                         23:22:56   Log-Likelihood:                -121.31\n",
      "No. Observations:                   53   AIC:                             248.6\n",
      "Df Residuals:                       50   BIC:                             254.5\n",
      "Df Model:                            2                                         \n",
      "Covariance Type:             nonrobust                                         \n",
      "==============================================================================\n",
      "                 coef    std err          t      P>|t|      [0.025      0.975]\n",
      "------------------------------------------------------------------------------\n",
      "const         27.9332      0.789     35.410      0.000      26.349      29.518\n",
      "x              0.0074      0.024      0.304      0.763      -0.041       0.056\n",
      "x_2            0.0083      0.000     37.847      0.000       0.008       0.009\n",
      "==============================================================================\n",
      "Omnibus:                       32.744   Durbin-Watson:                   1.041\n",
      "Prob(Omnibus):                  0.000   Jarque-Bera (JB):               67.644\n",
      "Skew:                          -1.932   Prob(JB):                     2.05e-15\n",
      "Kurtosis:                       6.963   Cond. No.                     8.14e+03\n",
      "==============================================================================\n",
      "\n",
      "Notes:\n",
      "[1] Standard Errors assume that the covariance matrix of the errors is correctly specified.\n",
      "[2] The condition number is large, 8.14e+03. This might indicate that there are\n",
      "strong multicollinearity or other numerical problems.\n"
     ]
    }
   ],
   "source": [
    "x_2=Citi1['Producto_Financiero']**2\n",
    "d2 = {\"x\":x, \"x_2\":x_2}\n",
    "X_2=pd.DataFrame(d2)\n",
    "mod3=build_model(X_2,y)"
   ]
  },
  {
   "cell_type": "code",
   "execution_count": 84,
   "metadata": {},
   "outputs": [
    {
     "data": {
      "text/plain": [
       "[<matplotlib.lines.Line2D at 0x1c00dd18d60>]"
      ]
     },
     "execution_count": 84,
     "metadata": {},
     "output_type": "execute_result"
    },
    {
     "data": {
      "image/png": "[encoded data removed]",
      "text/plain": [
       "<Figure size 432x288 with 1 Axes>"
      ]
     },
     "metadata": {
      "needs_background": "light"
     },
     "output_type": "display_data"
    }
   ],
   "source": [
    "plt.plot(x, y, 'o')\n",
    "a,b,c = np.polyfit(x, y, 2)\n",
    "plt.plot(x, a*x*x +b*x + c)"
   ]
  },
  {
   "cell_type": "code",
   "execution_count": 85,
   "metadata": {},
   "outputs": [
    {
     "data": {
      "text/plain": [
       "array([58.12145968])"
      ]
     },
     "execution_count": 85,
     "metadata": {},
     "output_type": "execute_result"
    }
   ],
   "source": [
    "X_2=sm.add_constant(X_2)\n",
    "y_pred = sm.OLS(y,X_2).fit().predict([1,60,60**2]) #lo que está dentro del arreglo es lo que multiplica a las betas, incluyendo B0\n",
    "y_pred"
   ]
  },
  {
   "cell_type": "code",
   "execution_count": 86,
   "metadata": {},
   "outputs": [],
   "source": [
    "#Fit model\n",
    "y=Bancorp1['Producto_Financiero']\n",
    "x=Bancorp1['Numeros']\n",
    "d = {\"x\": x}\n",
    "X=pd.DataFrame(d)"
   ]
  },
  {
   "cell_type": "code",
   "execution_count": 87,
   "metadata": {},
   "outputs": [
    {
     "name": "stdout",
     "output_type": "stream",
     "text": [
      "                             OLS Regression Results                            \n",
      "===============================================================================\n",
      "Dep. Variable:     Producto_Financiero   R-squared:                       0.366\n",
      "Model:                             OLS   Adj. R-squared:                  0.354\n",
      "Method:                  Least Squares   F-statistic:                     29.49\n",
      "Date:                 Tue, 12 Oct 2021   Prob (F-statistic):           1.58e-06\n",
      "Time:                         23:22:56   Log-Likelihood:                -179.45\n",
      "No. Observations:                   53   AIC:                             362.9\n",
      "Df Residuals:                       51   BIC:                             366.8\n",
      "Df Model:                            1                                         \n",
      "Covariance Type:             nonrobust                                         \n",
      "==============================================================================\n",
      "                 coef    std err          t      P>|t|      [0.025      0.975]\n",
      "------------------------------------------------------------------------------\n",
      "const         15.1981      2.031      7.484      0.000      11.121      19.275\n",
      "x              0.3553      0.065      5.430      0.000       0.224       0.487\n",
      "==============================================================================\n",
      "Omnibus:                        0.972   Durbin-Watson:                   1.554\n",
      "Prob(Omnibus):                  0.615   Jarque-Bera (JB):                0.872\n",
      "Skew:                          -0.020   Prob(JB):                        0.647\n",
      "Kurtosis:                       2.373   Cond. No.                         63.0\n",
      "==============================================================================\n",
      "\n",
      "Notes:\n",
      "[1] Standard Errors assume that the covariance matrix of the errors is correctly specified.\n"
     ]
    }
   ],
   "source": [
    "model1=build_model(X,y)"
   ]
  },
  {
   "cell_type": "code",
   "execution_count": 88,
   "metadata": {},
   "outputs": [
    {
     "data": {
      "text/html": [
       "<div>\n",
       "<style scoped>\n",
       "    .dataframe tbody tr th:only-of-type {\n",
       "        vertical-align: middle;\n",
       "    }\n",
       "\n",
       "    .dataframe tbody tr th {\n",
       "        vertical-align: top;\n",
       "    }\n",
       "\n",
       "    .dataframe thead th {\n",
       "        text-align: right;\n",
       "    }\n",
       "</style>\n",
       "<table border=\"1\" class=\"dataframe\">\n",
       "  <thead>\n",
       "    <tr style=\"text-align: right;\">\n",
       "      <th></th>\n",
       "      <th>Variables</th>\n",
       "      <th>VIF</th>\n",
       "    </tr>\n",
       "  </thead>\n",
       "  <tbody>\n",
       "    <tr>\n",
       "      <th>0</th>\n",
       "      <td>const</td>\n",
       "      <td>4.12</td>\n",
       "    </tr>\n",
       "    <tr>\n",
       "      <th>1</th>\n",
       "      <td>x</td>\n",
       "      <td>1.00</td>\n",
       "    </tr>\n",
       "  </tbody>\n",
       "</table>\n",
       "</div>"
      ],
      "text/plain": [
       "  Variables   VIF\n",
       "0     const  4.12\n",
       "1         x  1.00"
      ]
     },
     "execution_count": 88,
     "metadata": {},
     "output_type": "execute_result"
    }
   ],
   "source": [
    "checkVIF(model1)"
   ]
  },
  {
   "cell_type": "code",
   "execution_count": 89,
   "metadata": {},
   "outputs": [
    {
     "name": "stdout",
     "output_type": "stream",
     "text": [
      "                             OLS Regression Results                            \n",
      "===============================================================================\n",
      "Dep. Variable:     Producto_Financiero   R-squared:                       0.955\n",
      "Model:                             OLS   Adj. R-squared:                  0.953\n",
      "Method:                  Least Squares   F-statistic:                     527.4\n",
      "Date:                 Tue, 12 Oct 2021   Prob (F-statistic):           2.47e-34\n",
      "Time:                         23:22:56   Log-Likelihood:                -109.52\n",
      "No. Observations:                   53   AIC:                             225.0\n",
      "Df Residuals:                       50   BIC:                             230.9\n",
      "Df Model:                            2                                         \n",
      "Covariance Type:             nonrobust                                         \n",
      "==============================================================================\n",
      "                 coef    std err          t      P>|t|      [0.025      0.975]\n",
      "------------------------------------------------------------------------------\n",
      "const         10.7170      0.576     18.618      0.000       9.561      11.873\n",
      "x              0.0488      0.021      2.284      0.027       0.006       0.092\n",
      "x_2            0.0183      0.001     25.496      0.000       0.017       0.020\n",
      "==============================================================================\n",
      "Omnibus:                       18.917   Durbin-Watson:                   1.507\n",
      "Prob(Omnibus):                  0.000   Jarque-Bera (JB):               24.019\n",
      "Skew:                          -1.365   Prob(JB):                     6.09e-06\n",
      "Kurtosis:                       4.851   Cond. No.                     1.77e+03\n",
      "==============================================================================\n",
      "\n",
      "Notes:\n",
      "[1] Standard Errors assume that the covariance matrix of the errors is correctly specified.\n",
      "[2] The condition number is large, 1.77e+03. This might indicate that there are\n",
      "strong multicollinearity or other numerical problems.\n"
     ]
    }
   ],
   "source": [
    "x_2=Bancorp1['Producto_Financiero']**2\n",
    "d2 = {\"x\":x, \"x_2\":x_2}\n",
    "X_2=pd.DataFrame(d2)\n",
    "mod3=build_model(X_2,y)"
   ]
  },
  {
   "cell_type": "code",
   "execution_count": 90,
   "metadata": {},
   "outputs": [
    {
     "data": {
      "text/plain": [
       "[<matplotlib.lines.Line2D at 0x1c011da3a00>]"
      ]
     },
     "execution_count": 90,
     "metadata": {},
     "output_type": "execute_result"
    },
    {
     "data": {
      "image/png": "[encoded data removed]",
      "text/plain": [
       "<Figure size 432x288 with 1 Axes>"
      ]
     },
     "metadata": {
      "needs_background": "light"
     },
     "output_type": "display_data"
    }
   ],
   "source": [
    "plt.plot(x, y, 'o')\n",
    "a,b,c = np.polyfit(x, y, 2)\n",
    "plt.plot(x, a*x*x +b*x + c)"
   ]
  },
  {
   "cell_type": "code",
   "execution_count": 91,
   "metadata": {},
   "outputs": [
    {
     "data": {
      "text/plain": [
       "array([79.69854381])"
      ]
     },
     "execution_count": 91,
     "metadata": {},
     "output_type": "execute_result"
    }
   ],
   "source": [
    "X_2=sm.add_constant(X_2)\n",
    "y_pred = sm.OLS(y,X_2).fit().predict([1,60,60**2]) #lo que está dentro del arreglo es lo que multiplica a las betas, incluyendo B0\n",
    "y_pred"
   ]
  },
  {
   "cell_type": "markdown",
   "metadata": {},
   "source": [
    "# Conclusión\n",
    "\n",
    "Haciendo ajustes y procedimientos a nuestra base de datos, la técnica de Regresión Lineal Simple nos ayudó analizar la tendencia de los clientes sastifechos en los 5 bancos más grandes de USA (los cuales se obtuvieron de una pequeña investigación fuera de nuestro estudio), y hacer nuestra predicción de la cantidad de clientes satisfechos dentro de 6 meses, los cuales fueron:\n",
    "\n",
    "- **Citi Group:** 59 clientes\n",
    "- **JP Morgan:** 63 clientes\n",
    "- **Wells Fargo:** 74 clientes\n",
    "- **US Bancorp:** 80 clientes\n",
    "- **Bank of America:** 84 clientes\n",
    "\n",
    "Por lo que el Banco \"Bank of America\" es el mejor con mayor estimación de clientes satisfechos. Y de estos bancos, el estado con mayor número de quejas fue California; Recordemos que en nuestro estudio anterior, California fue el estado con mayor quejas y mayor satisfacción al cliente."
   ]
  }
 ],
 "metadata": {
  "interpreter": {
   "hash": "f5bd28ee32a81f75b587c4a5c9ba5abfdf032b3105de37173de2ab9e920c5085"
  },
  "kernelspec": {
   "display_name": "Python 3.8.5 64-bit",
   "name": "python3"
  },
  "language_info": {
   "codemirror_mode": {
    "name": "ipython",
    "version": 3
   },
   "file_extension": ".py",
   "mimetype": "text/x-python",
   "name": "python",
   "nbconvert_exporter": "python",
   "pygments_lexer": "ipython3",
   "version": "3.8.5"
  },
  "orig_nbformat": 4
 },
 "nbformat": 4,
 "nbformat_minor": 2
}
